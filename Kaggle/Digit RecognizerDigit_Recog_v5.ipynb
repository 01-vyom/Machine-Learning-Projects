{
  "nbformat": 4,
  "nbformat_minor": 0,
  "metadata": {
    "colab": {
      "name": "Digit Recog v5.ipynb",
      "provenance": [],
      "collapsed_sections": [],
      "include_colab_link": true
    },
    "kernelspec": {
      "name": "python3",
      "display_name": "Python 3"
    },
    "accelerator": "GPU"
  },
  "cells": [
    {
      "cell_type": "markdown",
      "metadata": {
        "id": "view-in-github",
        "colab_type": "text"
      },
      "source": [
        "<a href=\"https://colab.research.google.com/github/01-vyom/Machine-Learning-Projects/blob/master/Kaggle/Digit%20RecognizerDigit_Recog_v5.ipynb\" target=\"_parent\"><img src=\"https://colab.research.google.com/assets/colab-badge.svg\" alt=\"Open In Colab\"/></a>"
      ]
    },
    {
      "cell_type": "code",
      "metadata": {
        "id": "7XbnD5lmpsg3",
        "colab_type": "code",
        "outputId": "ca3f9a9a-d3d0-4f9e-a91b-d584f714113c",
        "colab": {
          "base_uri": "https://localhost:8080/",
          "height": 122
        }
      },
      "source": [
        "from google.colab import drive\n",
        "drive.mount('/content/drive')"
      ],
      "execution_count": 0,
      "outputs": [
        {
          "output_type": "stream",
          "text": [
            "Go to this URL in a browser: https://accounts.google.com/o/oauth2/auth?client_id=947318989803-6bn6qk8qdgf4n4g3pfee6491hc0brc4i.apps.googleusercontent.com&redirect_uri=urn%3aietf%3awg%3aoauth%3a2.0%3aoob&response_type=code&scope=email%20https%3a%2f%2fwww.googleapis.com%2fauth%2fdocs.test%20https%3a%2f%2fwww.googleapis.com%2fauth%2fdrive%20https%3a%2f%2fwww.googleapis.com%2fauth%2fdrive.photos.readonly%20https%3a%2f%2fwww.googleapis.com%2fauth%2fpeopleapi.readonly\n",
            "\n",
            "Enter your authorization code:\n",
            "··········\n",
            "Mounted at /content/drive\n"
          ],
          "name": "stdout"
        }
      ]
    },
    {
      "cell_type": "code",
      "metadata": {
        "id": "Z4tfKMZwp0Sa",
        "colab_type": "code",
        "colab": {}
      },
      "source": [
        "try:\n",
        "  # %tensorflow_version only exists in Colab.\n",
        "  %tensorflow_version 2.x\n",
        "except Exception:\n",
        "  pass\n",
        "#This is the code used for Tensorflow 2.x in Google Colab!!\n",
        "# first step is to import the libraries that are currently required\n",
        "import pandas as pd\n",
        "import matplotlib.pyplot as plt\n",
        "# x_data = range(0,l_data.shape[0]\n",
        "import seaborn as sns\n",
        "#LotFrontage\n",
        "#LotArea\n",
        "#YearBuilt\n",
        "#TotalBsmtsf\n",
        "#GarageArea\n",
        "#PoolArea\n",
        "import math\n",
        "from IPython import display\n",
        "from matplotlib import cm\n",
        "from matplotlib import gridspec\n",
        "from matplotlib import pyplot as plt\n",
        "import numpy as np\n",
        "from sklearn import metrics\n",
        "from sklearn import preprocessing\n",
        "from sklearn.model_selection import train_test_split\n",
        "from sklearn.ensemble import RandomForestClassifier\n",
        "from keras.utils.np_utils import to_categorical # convert to one-hot-encoding\n",
        "from keras.models import Sequential\n",
        "from keras.layers import Dense, Dropout, Flatten, Conv2D, MaxPool2D\n",
        "from keras.optimizers import RMSprop\n",
        "from keras.preprocessing.image import ImageDataGenerator\n",
        "from keras.callbacks import ReduceLROnPlateau\n",
        "import tensorflow as tf\n",
        "import tensorflow_hub as hub\n",
        "import tensorflow_datasets as tfds\n",
        "from sklearn.utils import shuffle\n",
        "from tensorflow.python.data import Dataset\n",
        "from sklearn.preprocessing import OneHotEncoder, LabelEncoder\n",
        "pd.options.display.max_rows = 25\n",
        "pd.options.display.float_format = '{:.5f}'.format"
      ],
      "execution_count": 0,
      "outputs": []
    },
    {
      "cell_type": "code",
      "metadata": {
        "id": "a4vdb7hKqStR",
        "colab_type": "code",
        "colab": {}
      },
      "source": [
        "Digit_Recog_Data = pd.read_csv(\"/content/drive/My Drive/Digit Recog/train.csv\")\n",
        "Digit_Recog_TestData = pd.read_csv(\"/content/drive/My Drive/Digit Recog/test.csv\")"
      ],
      "execution_count": 0,
      "outputs": []
    },
    {
      "cell_type": "code",
      "metadata": {
        "id": "Fm0ElwO6qUbY",
        "colab_type": "code",
        "colab": {}
      },
      "source": [
        "Y_train = Digit_Recog_Data[\"label\"]\n",
        "\n",
        "# Drop 'label' column\n",
        "X_train = Digit_Recog_Data.drop(labels = [\"label\"],axis = 1) \n"
      ],
      "execution_count": 0,
      "outputs": []
    },
    {
      "cell_type": "code",
      "metadata": {
        "id": "AgfLwXBTqfoe",
        "colab_type": "code",
        "colab": {}
      },
      "source": [
        "X_train = X_train / 255.0\n",
        "test = Digit_Recog_TestData / 255.0"
      ],
      "execution_count": 0,
      "outputs": []
    },
    {
      "cell_type": "code",
      "metadata": {
        "id": "-uPK21_JqxGj",
        "colab_type": "code",
        "colab": {}
      },
      "source": [
        "X_train = X_train.values\n"
      ],
      "execution_count": 0,
      "outputs": []
    },
    {
      "cell_type": "code",
      "metadata": {
        "id": "A5T16y8WwuK2",
        "colab_type": "code",
        "colab": {}
      },
      "source": [
        "random_seed = 4\n",
        "X_train, X_test, y_train, y_test = train_test_split(X_train, Y_train, test_size = 0.2, random_state=random_seed)"
      ],
      "execution_count": 0,
      "outputs": []
    },
    {
      "cell_type": "code",
      "metadata": {
        "id": "I0ABtOslwv1v",
        "colab_type": "code",
        "outputId": "22ba6c61-744a-4c83-97c3-af056f63a7c0",
        "colab": {
          "base_uri": "https://localhost:8080/",
          "height": 136
        }
      },
      "source": [
        "rf = RandomForestClassifier(n_estimators = 100)\n",
        "rf.fit(X_train, y_train)"
      ],
      "execution_count": 0,
      "outputs": [
        {
          "output_type": "execute_result",
          "data": {
            "text/plain": [
              "RandomForestClassifier(bootstrap=True, class_weight=None, criterion='gini',\n",
              "                       max_depth=None, max_features='auto', max_leaf_nodes=None,\n",
              "                       min_impurity_decrease=0.0, min_impurity_split=None,\n",
              "                       min_samples_leaf=1, min_samples_split=2,\n",
              "                       min_weight_fraction_leaf=0.0, n_estimators=100,\n",
              "                       n_jobs=None, oob_score=False, random_state=None,\n",
              "                       verbose=0, warm_start=False)"
            ]
          },
          "metadata": {
            "tags": []
          },
          "execution_count": 66
        }
      ]
    },
    {
      "cell_type": "code",
      "metadata": {
        "id": "KyK1nlrWxaUh",
        "colab_type": "code",
        "colab": {}
      },
      "source": [
        "pred = rf.predict(X_test)"
      ],
      "execution_count": 0,
      "outputs": []
    },
    {
      "cell_type": "code",
      "metadata": {
        "id": "Dgh8_N1iyCWA",
        "colab_type": "code",
        "colab": {}
      },
      "source": [
        "test = Digit_Recog_TestData.values\n",
        "testPred = rf.predict(test)"
      ],
      "execution_count": 0,
      "outputs": []
    },
    {
      "cell_type": "code",
      "metadata": {
        "id": "tWAux3hayQHD",
        "colab_type": "code",
        "colab": {}
      },
      "source": [
        "submissions=pd.DataFrame({\"ImageId\": list(range(1,len(testPred)+1)), \"Label\": testPred})\n",
        "submissions.to_csv(\"/content/drive/My Drive/Digit Recog/Digit_Recog_5.csv\", index=False, header=True)"
      ],
      "execution_count": 0,
      "outputs": []
    }
  ]
}