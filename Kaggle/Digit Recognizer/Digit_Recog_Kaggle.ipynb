{
  "nbformat": 4,
  "nbformat_minor": 0,
  "metadata": {
    "colab": {
      "name": "Digit Recog. Kaggle.ipynb",
      "provenance": [],
      "collapsed_sections": [],
      "include_colab_link": true
    },
    "kernelspec": {
      "name": "python3",
      "display_name": "Python 3"
    },
    "accelerator": "GPU"
  },
  "cells": [
    {
      "cell_type": "markdown",
      "metadata": {
        "id": "view-in-github",
        "colab_type": "text"
      },
      "source": [
        "<a href=\"https://colab.research.google.com/github/01-vyom/Machine-Learning-Projects/blob/master/Kaggle/Digit%20Recognizer/Digit_Recog_Kaggle.ipynb\" target=\"_parent\"><img src=\"https://colab.research.google.com/assets/colab-badge.svg\" alt=\"Open In Colab\"/></a>"
      ]
    },
    {
      "cell_type": "code",
      "metadata": {
        "id": "515Gm9So4xy6",
        "colab_type": "code",
        "outputId": "054d4b1b-d848-471a-a08f-3f38b66943b1",
        "colab": {
          "base_uri": "https://localhost:8080/",
          "height": 122
        }
      },
      "source": [
        "from google.colab import drive\n",
        "drive.mount('/content/drive')"
      ],
      "execution_count": 0,
      "outputs": [
        {
          "output_type": "stream",
          "text": [
            "Go to this URL in a browser: https://accounts.google.com/o/oauth2/auth?client_id=947318989803-6bn6qk8qdgf4n4g3pfee6491hc0brc4i.apps.googleusercontent.com&redirect_uri=urn%3aietf%3awg%3aoauth%3a2.0%3aoob&response_type=code&scope=email%20https%3a%2f%2fwww.googleapis.com%2fauth%2fdocs.test%20https%3a%2f%2fwww.googleapis.com%2fauth%2fdrive%20https%3a%2f%2fwww.googleapis.com%2fauth%2fdrive.photos.readonly%20https%3a%2f%2fwww.googleapis.com%2fauth%2fpeopleapi.readonly\n",
            "\n",
            "Enter your authorization code:\n",
            "··········\n",
            "Mounted at /content/drive\n"
          ],
          "name": "stdout"
        }
      ]
    },
    {
      "cell_type": "code",
      "metadata": {
        "id": "Z6gtexYj45St",
        "colab_type": "code",
        "colab": {}
      },
      "source": [
        "try:\n",
        "  # %tensorflow_version only exists in Colab.\n",
        "  %tensorflow_version 2.x\n",
        "except Exception:\n",
        "  pass\n",
        "#This is the code used for Tensorflow 2.x in Google Colab!!\n",
        "# first step is to import the libraries that are currently required\n",
        "import pandas as pd\n",
        "import matplotlib.pyplot as plt\n",
        "# x_data = range(0,l_data.shape[0]\n",
        "import seaborn as sns\n",
        "#LotFrontage\n",
        "#LotArea\n",
        "#YearBuilt\n",
        "#TotalBsmtsf\n",
        "#GarageArea\n",
        "#PoolArea\n",
        "import time\n",
        "import math\n",
        "from IPython import display\n",
        "from matplotlib import cm\n",
        "from matplotlib import gridspec\n",
        "from matplotlib import pyplot as plt\n",
        "import numpy as np\n",
        "from sklearn import metrics\n",
        "from sklearn import preprocessing\n",
        "from keras.utils.np_utils import to_categorical # convert to one-hot-encoding\n",
        "from keras.models import Sequential\n",
        "from keras.layers import Dense, Dropout, Flatten, Conv2D, MaxPool2D\n",
        "from keras.optimizers import RMSprop\n",
        "from keras.preprocessing.image import ImageDataGenerator\n",
        "from keras.callbacks import ReduceLROnPlateau\n",
        "import tensorflow as tf\n",
        "import tensorflow_hub as hub\n",
        "import tensorflow_datasets as tfds\n",
        "from sklearn.utils import shuffle\n",
        "from tensorflow.python.data import Dataset\n",
        "from sklearn.preprocessing import OneHotEncoder, LabelEncoder\n",
        "pd.options.display.max_rows = 25\n",
        "pd.options.display.float_format = '{:.5f}'.format"
      ],
      "execution_count": 0,
      "outputs": []
    },
    {
      "cell_type": "code",
      "metadata": {
        "id": "_7FEseUk5_bQ",
        "colab_type": "code",
        "colab": {}
      },
      "source": [
        "Digit_Recog_Data = pd.read_csv(\"/content/drive/My Drive/Digit Recog/train.csv\")\n",
        "Digit_Recog_Data = shuffle(Digit_Recog_Data)"
      ],
      "execution_count": 0,
      "outputs": []
    },
    {
      "cell_type": "code",
      "metadata": {
        "id": "-m_rAj1n6SNr",
        "colab_type": "code",
        "colab": {}
      },
      "source": [
        "Digit_Target = Digit_Recog_Data[['label']]\n",
        "Digit_Feature = Digit_Recog_Data.drop(columns=['label'])"
      ],
      "execution_count": 0,
      "outputs": []
    },
    {
      "cell_type": "code",
      "metadata": {
        "id": "wG4wHA0KLGmx",
        "colab_type": "code",
        "colab": {}
      },
      "source": [
        "Digit_Feature = Digit_Feature.values\n",
        "Digit_Target = Digit_Target.values\n",
        "Digit_Feature = Digit_Feature.reshape(-1,28,28,1)\n",
        "Digit_Feature = Digit_Feature/255.0"
      ],
      "execution_count": 0,
      "outputs": []
    },
    {
      "cell_type": "code",
      "metadata": {
        "id": "qMZ5fZ4U9X2P",
        "colab_type": "code",
        "colab": {}
      },
      "source": [
        "#.980 with validation\n",
        "#.97854 without validation\n",
        "model = tf.keras.models.Sequential([\n",
        "  tf.keras.layers.Conv2D(16, (3,3), activation='relu', input_shape=(28, 28, 1)),\n",
        "  tf.keras.layers.MaxPooling2D(2, 2),\n",
        "  tf.keras.layers.Conv2D(32, (3,3), activation='relu', input_shape=(28, 28, 1)),\n",
        "  tf.keras.layers.MaxPooling2D(2, 2),\n",
        "  tf.keras.layers.Conv2D(64, (3,3), activation='relu', input_shape=(28, 28, 1)),\n",
        "  tf.keras.layers.MaxPooling2D(2, 2),\n",
        "  tf.keras.layers.Flatten(),\n",
        "  tf.keras.layers.Dense(128, activation='relu'),\n",
        "  tf.keras.layers.Dense(10, activation='softmax')\n",
        "])\n",
        "model.compile(optimizer='adam', loss='sparse_categorical_crossentropy', metrics=['accuracy'])"
      ],
      "execution_count": 0,
      "outputs": []
    },
    {
      "cell_type": "code",
      "metadata": {
        "id": "D5c8-m9Ikd5j",
        "colab_type": "code",
        "colab": {}
      },
      "source": [
        "#.980 with validation\n",
        "#.97854 without validation\n",
        "# with validation and a very different type of network\n",
        "model = tf.keras.models.Sequential([\n",
        "  tf.keras.layers.Conv2D(32, kernel_size=(5,5),padding = 'Same', activation='relu', input_shape=(28, 28, 1)),\n",
        "  tf.keras.layers.Conv2D(32, kernel_size=(5,5),padding = 'Same', activation='relu'),\n",
        "  tf.keras.layers.MaxPooling2D(2, 2),\n",
        "  tf.keras.layers.Dropout(0.25),\n",
        "  tf.keras.layers.Conv2D(64, kernel_size=(3,3),padding = 'Same', activation='relu'),\n",
        "  tf.keras.layers.Conv2D(64, kernel_size=(3,3),padding = 'Same', activation='relu'),\n",
        "  tf.keras.layers.MaxPooling2D(pool_size=(2,2),strides=(2,2)),\n",
        "  tf.keras.layers.Dropout(0.25),\n",
        "  tf.keras.layers.Flatten(),\n",
        "  tf.keras.layers.Dense(256, activation='relu'),\n",
        "  tf.keras.layers.Dropout(0.5),\n",
        "  tf.keras.layers.Dense(10, activation='softmax')\n",
        "])\n",
        "model.compile(optimizer=tf.keras.optimizers.RMSprop(lr=0.001, rho=0.9, epsilon=1e-08, decay=0.0), loss='sparse_categorical_crossentropy', metrics=['accuracy'])"
      ],
      "execution_count": 0,
      "outputs": []
    },
    {
      "cell_type": "code",
      "metadata": {
        "id": "UNaBsDna-CS6",
        "colab_type": "code",
        "outputId": "c0c104ac-7d10-48d6-a44e-7e048c9fc2d8",
        "colab": {
          "base_uri": "https://localhost:8080/",
          "height": 1000
        }
      },
      "source": [
        "learning_rate_reduction = tf.keras.callbacks.ReduceLROnPlateau(monitor='val_accuracy', \n",
        "                                            patience=2, \n",
        "                                            verbose=1, \n",
        "                                            factor=0.5, \n",
        "                                            min_lr=0.00001)\n",
        "history = model.fit(\n",
        "    x=Digit_Feature,\n",
        "    y=Digit_Target,\n",
        "    batch_size = 86,\n",
        "    validation_split = 0.1,\n",
        "    epochs = 30,\n",
        "    callbacks=[learning_rate_reduction]\n",
        ")"
      ],
      "execution_count": 0,
      "outputs": [
        {
          "output_type": "stream",
          "text": [
            "Train on 37800 samples, validate on 4200 samples\n",
            "Epoch 1/30\n",
            "37800/37800 [==============================] - 8s 221us/sample - loss: 0.2472 - accuracy: 0.9235 - val_loss: 0.0530 - val_accuracy: 0.9831\n",
            "Epoch 2/30\n",
            "37800/37800 [==============================] - 7s 190us/sample - loss: 0.0732 - accuracy: 0.9778 - val_loss: 0.0403 - val_accuracy: 0.9888\n",
            "Epoch 3/30\n",
            "37800/37800 [==============================] - 7s 190us/sample - loss: 0.0552 - accuracy: 0.9840 - val_loss: 0.0326 - val_accuracy: 0.9883\n",
            "Epoch 4/30\n",
            "37800/37800 [==============================] - 7s 189us/sample - loss: 0.0468 - accuracy: 0.9860 - val_loss: 0.0335 - val_accuracy: 0.9910\n",
            "Epoch 5/30\n",
            "37800/37800 [==============================] - 7s 191us/sample - loss: 0.0398 - accuracy: 0.9885 - val_loss: 0.0295 - val_accuracy: 0.9912\n",
            "Epoch 6/30\n",
            "37800/37800 [==============================] - 7s 190us/sample - loss: 0.0364 - accuracy: 0.9896 - val_loss: 0.0305 - val_accuracy: 0.9902\n",
            "Epoch 7/30\n",
            "37800/37800 [==============================] - 7s 192us/sample - loss: 0.0350 - accuracy: 0.9893 - val_loss: 0.0261 - val_accuracy: 0.9917\n",
            "Epoch 8/30\n",
            "37800/37800 [==============================] - 7s 191us/sample - loss: 0.0318 - accuracy: 0.9905 - val_loss: 0.0328 - val_accuracy: 0.9900\n",
            "Epoch 9/30\n",
            "37800/37800 [==============================] - 7s 191us/sample - loss: 0.0314 - accuracy: 0.9915 - val_loss: 0.0293 - val_accuracy: 0.9919\n",
            "Epoch 10/30\n",
            "37800/37800 [==============================] - 7s 190us/sample - loss: 0.0312 - accuracy: 0.9911 - val_loss: 0.0228 - val_accuracy: 0.9936\n",
            "Epoch 11/30\n",
            "37800/37800 [==============================] - 7s 190us/sample - loss: 0.0270 - accuracy: 0.9917 - val_loss: 0.0416 - val_accuracy: 0.9929\n",
            "Epoch 12/30\n",
            "37754/37800 [============================>.] - ETA: 0s - loss: 0.0265 - accuracy: 0.9927\n",
            "Epoch 00012: ReduceLROnPlateau reducing learning rate to 0.0005000000237487257.\n",
            "37800/37800 [==============================] - 7s 192us/sample - loss: 0.0265 - accuracy: 0.9928 - val_loss: 0.0289 - val_accuracy: 0.9921\n",
            "Epoch 13/30\n",
            "37800/37800 [==============================] - 7s 190us/sample - loss: 0.0185 - accuracy: 0.9946 - val_loss: 0.0257 - val_accuracy: 0.9936\n",
            "Epoch 14/30\n",
            "37668/37800 [============================>.] - ETA: 0s - loss: 0.0163 - accuracy: 0.9953\n",
            "Epoch 00014: ReduceLROnPlateau reducing learning rate to 0.0002500000118743628.\n",
            "37800/37800 [==============================] - 7s 191us/sample - loss: 0.0163 - accuracy: 0.9953 - val_loss: 0.0245 - val_accuracy: 0.9933\n",
            "Epoch 15/30\n",
            "37800/37800 [==============================] - 7s 196us/sample - loss: 0.0104 - accuracy: 0.9969 - val_loss: 0.0300 - val_accuracy: 0.9940\n",
            "Epoch 16/30\n",
            "37800/37800 [==============================] - 7s 189us/sample - loss: 0.0110 - accuracy: 0.9968 - val_loss: 0.0241 - val_accuracy: 0.9938\n",
            "Epoch 17/30\n",
            "37496/37800 [============================>.] - ETA: 0s - loss: 0.0094 - accuracy: 0.9972\n",
            "Epoch 00017: ReduceLROnPlateau reducing learning rate to 0.0001250000059371814.\n",
            "37800/37800 [==============================] - 7s 191us/sample - loss: 0.0094 - accuracy: 0.9972 - val_loss: 0.0211 - val_accuracy: 0.9931\n",
            "Epoch 18/30\n",
            "37800/37800 [==============================] - 7s 190us/sample - loss: 0.0086 - accuracy: 0.9971 - val_loss: 0.0243 - val_accuracy: 0.9936\n",
            "Epoch 19/30\n",
            "37668/37800 [============================>.] - ETA: 0s - loss: 0.0071 - accuracy: 0.9979\n",
            "Epoch 00019: ReduceLROnPlateau reducing learning rate to 6.25000029685907e-05.\n",
            "37800/37800 [==============================] - 7s 189us/sample - loss: 0.0071 - accuracy: 0.9979 - val_loss: 0.0270 - val_accuracy: 0.9929\n",
            "Epoch 20/30\n",
            "37800/37800 [==============================] - 7s 188us/sample - loss: 0.0079 - accuracy: 0.9977 - val_loss: 0.0241 - val_accuracy: 0.9943\n",
            "Epoch 21/30\n",
            "37800/37800 [==============================] - 7s 191us/sample - loss: 0.0072 - accuracy: 0.9979 - val_loss: 0.0259 - val_accuracy: 0.9936\n",
            "Epoch 22/30\n",
            "37800/37800 [==============================] - 7s 190us/sample - loss: 0.0067 - accuracy: 0.9980 - val_loss: 0.0237 - val_accuracy: 0.9945\n",
            "Epoch 23/30\n",
            "37800/37800 [==============================] - 7s 189us/sample - loss: 0.0065 - accuracy: 0.9978 - val_loss: 0.0259 - val_accuracy: 0.9940\n",
            "Epoch 24/30\n",
            "37754/37800 [============================>.] - ETA: 0s - loss: 0.0062 - accuracy: 0.9981\n",
            "Epoch 00024: ReduceLROnPlateau reducing learning rate to 3.125000148429535e-05.\n",
            "37800/37800 [==============================] - 7s 188us/sample - loss: 0.0062 - accuracy: 0.9981 - val_loss: 0.0256 - val_accuracy: 0.9936\n",
            "Epoch 25/30\n",
            "37800/37800 [==============================] - 7s 189us/sample - loss: 0.0059 - accuracy: 0.9983 - val_loss: 0.0249 - val_accuracy: 0.9940\n",
            "Epoch 26/30\n",
            "37496/37800 [============================>.] - ETA: 0s - loss: 0.0057 - accuracy: 0.9983\n",
            "Epoch 00026: ReduceLROnPlateau reducing learning rate to 1.5625000742147677e-05.\n",
            "37800/37800 [==============================] - 7s 189us/sample - loss: 0.0058 - accuracy: 0.9983 - val_loss: 0.0260 - val_accuracy: 0.9940\n",
            "Epoch 27/30\n",
            "37800/37800 [==============================] - 7s 190us/sample - loss: 0.0054 - accuracy: 0.9982 - val_loss: 0.0252 - val_accuracy: 0.9943\n",
            "Epoch 28/30\n",
            "37668/37800 [============================>.] - ETA: 0s - loss: 0.0057 - accuracy: 0.9984\n",
            "Epoch 00028: ReduceLROnPlateau reducing learning rate to 1e-05.\n",
            "37800/37800 [==============================] - 7s 189us/sample - loss: 0.0057 - accuracy: 0.9984 - val_loss: 0.0253 - val_accuracy: 0.9940\n",
            "Epoch 29/30\n",
            "37800/37800 [==============================] - 7s 189us/sample - loss: 0.0052 - accuracy: 0.9983 - val_loss: 0.0252 - val_accuracy: 0.9943\n",
            "Epoch 30/30\n",
            "37800/37800 [==============================] - 7s 188us/sample - loss: 0.0048 - accuracy: 0.9986 - val_loss: 0.0256 - val_accuracy: 0.9943\n"
          ],
          "name": "stdout"
        }
      ]
    },
    {
      "cell_type": "code",
      "metadata": {
        "id": "6AMhB6uGAOen",
        "colab_type": "code",
        "outputId": "886c2405-96fc-4b25-ec39-57864e1aebc7",
        "colab": {
          "base_uri": "https://localhost:8080/",
          "height": 499
        }
      },
      "source": [
        "acc = history.history['accuracy']\n",
        "val_acc = history.history['val_accuracy']\n",
        "\n",
        "loss = history.history['loss']\n",
        "val_loss = history.history['val_loss']\n",
        "EPOCHS = 30\n",
        "epochs_range = range(EPOCHS)\n",
        "\n",
        "plt.figure(figsize=(8, 8))\n",
        "plt.subplot(1, 2, 1)\n",
        "plt.plot(epochs_range, acc, label='Training Accuracy')\n",
        "plt.plot(epochs_range, val_acc, label='Validation Accuracy')\n",
        "plt.legend(loc='lower right')\n",
        "plt.title('Training and Validation Accuracy')\n",
        "\n",
        "plt.subplot(1, 2, 2)\n",
        "plt.plot(epochs_range, loss, label='Training Loss')\n",
        "plt.plot(epochs_range, val_loss, label='Validation Loss')\n",
        "plt.legend(loc='upper right')\n",
        "plt.title('Training and Validation Loss')\n",
        "plt.show()"
      ],
      "execution_count": 0,
      "outputs": [
        {
          "output_type": "display_data",
          "data": {
            "image/png": "[encoded data removed]",
            "text/plain": [
              "<Figure size 576x576 with 2 Axes>"
            ]
          },
          "metadata": {
            "tags": []
          }
        }
      ]
    },
    {
      "cell_type": "code",
      "metadata": {
        "id": "M2LCwaRs_O65",
        "colab_type": "code",
        "colab": {}
      },
      "source": [
        "Digit_Recog_TestData = pd.read_csv(\"/content/drive/My Drive/Digit Recog/test.csv\")\n",
        "Digit_Predict = Digit_Recog_TestData.values.reshape(-1,28,28,1)\n",
        "Digit_Predict = Digit_Predict / 255.0"
      ],
      "execution_count": 0,
      "outputs": []
    },
    {
      "cell_type": "code",
      "metadata": {
        "id": "OHZrH1IY-Y9G",
        "colab_type": "code",
        "colab": {}
      },
      "source": [
        "predictions = model.predict(Digit_Predict)\n",
        "preds = np.argmax(predictions, axis=-1)"
      ],
      "execution_count": 0,
      "outputs": []
    },
    {
      "cell_type": "code",
      "metadata": {
        "id": "-pS_AKooA1lG",
        "colab_type": "code",
        "outputId": "c422cf88-b012-4842-eaa4-361175ee3e48",
        "colab": {
          "base_uri": "https://localhost:8080/",
          "height": 34
        }
      },
      "source": [
        "print(type(preds))\n",
        "k = 1\n",
        "main = []\n",
        "for i in range(len(preds)):\n",
        "  l=[k+i,preds[i]]\n",
        "  main.append(l)\n",
        "dfans = pd.DataFrame(main)\n"
      ],
      "execution_count": 0,
      "outputs": [
        {
          "output_type": "stream",
          "text": [
            "<class 'numpy.ndarray'>\n"
          ],
          "name": "stdout"
        }
      ]
    },
    {
      "cell_type": "code",
      "metadata": {
        "id": "dBlku0qHA6Ui",
        "colab_type": "code",
        "colab": {}
      },
      "source": [
        "dfans.to_csv('/content/drive/My Drive/Digit Recog/Digit_Recog_6.csv', index=False)"
      ],
      "execution_count": 0,
      "outputs": []
    },
    {
      "cell_type": "code",
      "metadata": {
        "id": "pfOLteO-lyWm",
        "colab_type": "code",
        "outputId": "0834eef1-2840-4fff-c00a-badd17e5cfce",
        "colab": {
          "base_uri": "https://localhost:8080/",
          "height": 34
        }
      },
      "source": [
        "#h5 save modal\n",
        "\n",
        "t = time.time()\n",
        "\n",
        "export_path_keras = \"/content/drive/My Drive/Digit Recog/{}.h5\".format(int(t))\n",
        "print(export_path_keras)\n",
        "\n",
        "model.save(export_path_keras)\n"
      ],
      "execution_count": 0,
      "outputs": [
        {
          "output_type": "stream",
          "text": [
            "/content/drive/My Drive/Digit Recog/1573903162.h5\n"
          ],
          "name": "stdout"
        }
      ]
    },
    {
      "cell_type": "code",
      "metadata": {
        "id": "kHhZ9x8K8F3M",
        "colab_type": "code",
        "outputId": "e3ea0e36-1b31-4433-fcbf-951c675a206c",
        "colab": {
          "base_uri": "https://localhost:8080/",
          "height": 190
        }
      },
      "source": [
        "t = time.time()\n",
        "\n",
        "export_path_sm = \"/content/drive/My Drive/Digit Recog/{}\".format(int(t))\n",
        "print(export_path_sm)\n",
        "\n",
        "tf.saved_model.save(model, export_path_sm)"
      ],
      "execution_count": 0,
      "outputs": [
        {
          "output_type": "stream",
          "text": [
            "/content/drive/My Drive/Digit Recog/1573903330\n",
            "WARNING:tensorflow:From /tensorflow-2.0.0/python3.6/tensorflow_core/python/ops/resource_variable_ops.py:1781: calling BaseResourceVariable.__init__ (from tensorflow.python.ops.resource_variable_ops) with constraint is deprecated and will be removed in a future version.\n",
            "Instructions for updating:\n",
            "If using Keras pass *_constraint arguments to layers.\n"
          ],
          "name": "stdout"
        },
        {
          "output_type": "stream",
          "text": [
            "WARNING:tensorflow:From /tensorflow-2.0.0/python3.6/tensorflow_core/python/ops/resource_variable_ops.py:1781: calling BaseResourceVariable.__init__ (from tensorflow.python.ops.resource_variable_ops) with constraint is deprecated and will be removed in a future version.\n",
            "Instructions for updating:\n",
            "If using Keras pass *_constraint arguments to layers.\n"
          ],
          "name": "stderr"
        },
        {
          "output_type": "stream",
          "text": [
            "INFO:tensorflow:Assets written to: /content/drive/My Drive/Digit Recog/1573903330/assets\n"
          ],
          "name": "stdout"
        },
        {
          "output_type": "stream",
          "text": [
            "INFO:tensorflow:Assets written to: /content/drive/My Drive/Digit Recog/1573903330/assets\n"
          ],
          "name": "stderr"
        }
      ]
    }
  ]
}