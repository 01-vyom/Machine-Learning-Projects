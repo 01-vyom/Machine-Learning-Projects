{
  "nbformat": 4,
  "nbformat_minor": 0,
  "metadata": {
    "kernelspec": {
      "language": "python",
      "display_name": "Python 3",
      "name": "python3"
    },
    "language_info": {
      "pygments_lexer": "ipython3",
      "nbconvert_exporter": "python",
      "version": "3.6.4",
      "file_extension": ".py",
      "codemirror_mode": {
        "name": "ipython",
        "version": 3
      },
      "name": "python",
      "mimetype": "text/x-python"
    },
    "colab": {
      "name": "iwildcam-2020-demo-kernel.ipynb",
      "provenance": [],
      "include_colab_link": true
    }
  },
  "cells": [
    {
      "cell_type": "markdown",
      "metadata": {
        "id": "view-in-github",
        "colab_type": "text"
      },
      "source": [
        "<a href=\"https://colab.research.google.com/github/01-vyom/Machine-Learning-Projects/blob/master/Kaggle/iWildCam%202020/iwildcam_2020_demo_kernel.ipynb\" target=\"_parent\"><img src=\"https://colab.research.google.com/assets/colab-badge.svg\" alt=\"Open In Colab\"/></a>"
      ]
    },
    {
      "cell_type": "code",
      "metadata": {
        "_uuid": "3a88b781-577f-48f2-85cd-1117a73faee4",
        "_cell_guid": "7c5c6f8d-e8bc-4036-b437-7b6e43b5d002",
        "trusted": true,
        "id": "Wg10VaYKWMK0",
        "colab_type": "code",
        "colab": {}
      },
      "source": [
        "# This Python 3 environment comes with many helpful analytics libraries installed\n",
        "# It is defined by the kaggle/python docker image: https://github.com/kaggle/docker-python\n",
        "# For example, here's several helpful packages to load in \n",
        "\n",
        "import numpy as np # linear algebra\n",
        "import pandas as pd # data processing, CSV file I/O (e.g. pd.read_csv)\n",
        "import seaborn as sns\n",
        "import matplotlib.pyplot as plt\n",
        "from PIL import Image, ImageFile\n",
        "ImageFile.LOAD_TRUNCATED_IMAGES = True\n",
        "\n",
        "# Input data files are available in the \"../input/\" directory.\n",
        "# For example, running this (by clicking run or pressing Shift+Enter) will list all files under the input directory\n",
        "import json\n",
        "import os\n",
        "from IPython.display import FileLink\n",
        "# for dirname, _, filenames in os.walk('/kaggle/input'):\n",
        "#     for filename in filenames:\n",
        "#         print(os.path.join(dirname, filename))\n",
        "\n",
        "# Any results you write to the current directory are saved as output."
      ],
      "execution_count": 0,
      "outputs": []
    },
    {
      "cell_type": "code",
      "metadata": {
        "trusted": true,
        "id": "3XpZCRRtWMLA",
        "colab_type": "code",
        "colab": {}
      },
      "source": [
        "with open('/kaggle/input/iwildcam-2020-fgvc7/iwildcam2020_train_annotations.json') as f:\n",
        "    train_data = json.load(f)\n",
        "    \n",
        "with open('/kaggle/input/iwildcam-2020-fgvc7/iwildcam2020_test_information.json') as f:\n",
        "    test_data = json.load(f)"
      ],
      "execution_count": 0,
      "outputs": []
    },
    {
      "cell_type": "code",
      "metadata": {
        "trusted": true,
        "id": "C31cwuwsWMLH",
        "colab_type": "code",
        "colab": {},
        "outputId": "602f4c3d-8b50-4495-c224-122744e6ecc1"
      },
      "source": [
        "train_data.keys()"
      ],
      "execution_count": 0,
      "outputs": [
        {
          "output_type": "execute_result",
          "data": {
            "text/plain": [
              "dict_keys(['annotations', 'images', 'categories', 'info'])"
            ]
          },
          "metadata": {
            "tags": []
          },
          "execution_count": 3
        }
      ]
    },
    {
      "cell_type": "code",
      "metadata": {
        "trusted": true,
        "id": "3XhWG02xWMLS",
        "colab_type": "code",
        "colab": {}
      },
      "source": [
        "train = pd.DataFrame(train_data['annotations'])"
      ],
      "execution_count": 0,
      "outputs": []
    },
    {
      "cell_type": "code",
      "metadata": {
        "trusted": true,
        "id": "aJ_9boh6WMLX",
        "colab_type": "code",
        "colab": {},
        "outputId": "72f74c9e-6c3b-4bde-8e43-67a3cd4008f1"
      },
      "source": [
        "train.head()"
      ],
      "execution_count": 0,
      "outputs": [
        {
          "output_type": "execute_result",
          "data": {
            "text/plain": [
              "   count                              image_id  \\\n",
              "0      1  96b00332-21bc-11ea-a13a-137349068a90   \n",
              "1      1  879d74d8-21bc-11ea-a13a-137349068a90   \n",
              "2      1  9017f7aa-21bc-11ea-a13a-137349068a90   \n",
              "3      1  90d93c58-21bc-11ea-a13a-137349068a90   \n",
              "4      1  887cd0ec-21bc-11ea-a13a-137349068a90   \n",
              "\n",
              "                                     id  category_id  \n",
              "0  a292dd3c-21bc-11ea-a13a-137349068a90           73  \n",
              "1  a0afcfc0-21bc-11ea-a13a-137349068a90            4  \n",
              "2  a306e9c0-21bc-11ea-a13a-137349068a90          227  \n",
              "3  9eed94c4-21bc-11ea-a13a-137349068a90          250  \n",
              "4  a2a4dd7a-21bc-11ea-a13a-137349068a90            2  "
            ],
            "text/html": [
              "<div>\n",
              "<style scoped>\n",
              "    .dataframe tbody tr th:only-of-type {\n",
              "        vertical-align: middle;\n",
              "    }\n",
              "\n",
              "    .dataframe tbody tr th {\n",
              "        vertical-align: top;\n",
              "    }\n",
              "\n",
              "    .dataframe thead th {\n",
              "        text-align: right;\n",
              "    }\n",
              "</style>\n",
              "<table border=\"1\" class=\"dataframe\">\n",
              "  <thead>\n",
              "    <tr style=\"text-align: right;\">\n",
              "      <th></th>\n",
              "      <th>count</th>\n",
              "      <th>image_id</th>\n",
              "      <th>id</th>\n",
              "      <th>category_id</th>\n",
              "    </tr>\n",
              "  </thead>\n",
              "  <tbody>\n",
              "    <tr>\n",
              "      <th>0</th>\n",
              "      <td>1</td>\n",
              "      <td>96b00332-21bc-11ea-a13a-137349068a90</td>\n",
              "      <td>a292dd3c-21bc-11ea-a13a-137349068a90</td>\n",
              "      <td>73</td>\n",
              "    </tr>\n",
              "    <tr>\n",
              "      <th>1</th>\n",
              "      <td>1</td>\n",
              "      <td>879d74d8-21bc-11ea-a13a-137349068a90</td>\n",
              "      <td>a0afcfc0-21bc-11ea-a13a-137349068a90</td>\n",
              "      <td>4</td>\n",
              "    </tr>\n",
              "    <tr>\n",
              "      <th>2</th>\n",
              "      <td>1</td>\n",
              "      <td>9017f7aa-21bc-11ea-a13a-137349068a90</td>\n",
              "      <td>a306e9c0-21bc-11ea-a13a-137349068a90</td>\n",
              "      <td>227</td>\n",
              "    </tr>\n",
              "    <tr>\n",
              "      <th>3</th>\n",
              "      <td>1</td>\n",
              "      <td>90d93c58-21bc-11ea-a13a-137349068a90</td>\n",
              "      <td>9eed94c4-21bc-11ea-a13a-137349068a90</td>\n",
              "      <td>250</td>\n",
              "    </tr>\n",
              "    <tr>\n",
              "      <th>4</th>\n",
              "      <td>1</td>\n",
              "      <td>887cd0ec-21bc-11ea-a13a-137349068a90</td>\n",
              "      <td>a2a4dd7a-21bc-11ea-a13a-137349068a90</td>\n",
              "      <td>2</td>\n",
              "    </tr>\n",
              "  </tbody>\n",
              "</table>\n",
              "</div>"
            ]
          },
          "metadata": {
            "tags": []
          },
          "execution_count": 5
        }
      ]
    },
    {
      "cell_type": "code",
      "metadata": {
        "trusted": true,
        "id": "eviEjVV5WMLr",
        "colab_type": "code",
        "colab": {}
      },
      "source": [
        "train.rename(columns={'count': 'cnt'}, inplace=True)\n"
      ],
      "execution_count": 0,
      "outputs": []
    },
    {
      "cell_type": "code",
      "metadata": {
        "trusted": true,
        "id": "09bRGGB2WMLy",
        "colab_type": "code",
        "colab": {},
        "outputId": "0bb1ab0f-e9df-4e25-cc5f-0c7537475345"
      },
      "source": [
        "train[train.cnt > 1].describe()"
      ],
      "execution_count": 0,
      "outputs": [
        {
          "output_type": "execute_result",
          "data": {
            "text/plain": [
              "                cnt   category_id\n",
              "count  41160.000000  41160.000000\n",
              "mean       4.875389    178.521380\n",
              "std        5.386858    144.690983\n",
              "min        2.000000      2.000000\n",
              "25%        2.000000     71.000000\n",
              "50%        3.000000     99.000000\n",
              "75%        5.000000    372.000000\n",
              "max       80.000000    565.000000"
            ],
            "text/html": [
              "<div>\n",
              "<style scoped>\n",
              "    .dataframe tbody tr th:only-of-type {\n",
              "        vertical-align: middle;\n",
              "    }\n",
              "\n",
              "    .dataframe tbody tr th {\n",
              "        vertical-align: top;\n",
              "    }\n",
              "\n",
              "    .dataframe thead th {\n",
              "        text-align: right;\n",
              "    }\n",
              "</style>\n",
              "<table border=\"1\" class=\"dataframe\">\n",
              "  <thead>\n",
              "    <tr style=\"text-align: right;\">\n",
              "      <th></th>\n",
              "      <th>cnt</th>\n",
              "      <th>category_id</th>\n",
              "    </tr>\n",
              "  </thead>\n",
              "  <tbody>\n",
              "    <tr>\n",
              "      <th>count</th>\n",
              "      <td>41160.000000</td>\n",
              "      <td>41160.000000</td>\n",
              "    </tr>\n",
              "    <tr>\n",
              "      <th>mean</th>\n",
              "      <td>4.875389</td>\n",
              "      <td>178.521380</td>\n",
              "    </tr>\n",
              "    <tr>\n",
              "      <th>std</th>\n",
              "      <td>5.386858</td>\n",
              "      <td>144.690983</td>\n",
              "    </tr>\n",
              "    <tr>\n",
              "      <th>min</th>\n",
              "      <td>2.000000</td>\n",
              "      <td>2.000000</td>\n",
              "    </tr>\n",
              "    <tr>\n",
              "      <th>25%</th>\n",
              "      <td>2.000000</td>\n",
              "      <td>71.000000</td>\n",
              "    </tr>\n",
              "    <tr>\n",
              "      <th>50%</th>\n",
              "      <td>3.000000</td>\n",
              "      <td>99.000000</td>\n",
              "    </tr>\n",
              "    <tr>\n",
              "      <th>75%</th>\n",
              "      <td>5.000000</td>\n",
              "      <td>372.000000</td>\n",
              "    </tr>\n",
              "    <tr>\n",
              "      <th>max</th>\n",
              "      <td>80.000000</td>\n",
              "      <td>565.000000</td>\n",
              "    </tr>\n",
              "  </tbody>\n",
              "</table>\n",
              "</div>"
            ]
          },
          "metadata": {
            "tags": []
          },
          "execution_count": 7
        }
      ]
    },
    {
      "cell_type": "code",
      "metadata": {
        "trusted": true,
        "id": "s4Ig5rDLWML4",
        "colab_type": "code",
        "colab": {},
        "outputId": "47b54d0a-b5e0-4cf1-f015-8c6252851db6"
      },
      "source": [
        "train.describe()"
      ],
      "execution_count": 0,
      "outputs": [
        {
          "output_type": "execute_result",
          "data": {
            "text/plain": [
              "                 cnt    category_id\n",
              "count  217959.000000  217959.000000\n",
              "mean        1.444974     144.334067\n",
              "std         2.912934     167.486502\n",
              "min        -1.000000       0.000000\n",
              "25%         1.000000       0.000000\n",
              "50%         1.000000      71.000000\n",
              "75%         1.000000     347.000000\n",
              "max        80.000000     571.000000"
            ],
            "text/html": [
              "<div>\n",
              "<style scoped>\n",
              "    .dataframe tbody tr th:only-of-type {\n",
              "        vertical-align: middle;\n",
              "    }\n",
              "\n",
              "    .dataframe tbody tr th {\n",
              "        vertical-align: top;\n",
              "    }\n",
              "\n",
              "    .dataframe thead th {\n",
              "        text-align: right;\n",
              "    }\n",
              "</style>\n",
              "<table border=\"1\" class=\"dataframe\">\n",
              "  <thead>\n",
              "    <tr style=\"text-align: right;\">\n",
              "      <th></th>\n",
              "      <th>cnt</th>\n",
              "      <th>category_id</th>\n",
              "    </tr>\n",
              "  </thead>\n",
              "  <tbody>\n",
              "    <tr>\n",
              "      <th>count</th>\n",
              "      <td>217959.000000</td>\n",
              "      <td>217959.000000</td>\n",
              "    </tr>\n",
              "    <tr>\n",
              "      <th>mean</th>\n",
              "      <td>1.444974</td>\n",
              "      <td>144.334067</td>\n",
              "    </tr>\n",
              "    <tr>\n",
              "      <th>std</th>\n",
              "      <td>2.912934</td>\n",
              "      <td>167.486502</td>\n",
              "    </tr>\n",
              "    <tr>\n",
              "      <th>min</th>\n",
              "      <td>-1.000000</td>\n",
              "      <td>0.000000</td>\n",
              "    </tr>\n",
              "    <tr>\n",
              "      <th>25%</th>\n",
              "      <td>1.000000</td>\n",
              "      <td>0.000000</td>\n",
              "    </tr>\n",
              "    <tr>\n",
              "      <th>50%</th>\n",
              "      <td>1.000000</td>\n",
              "      <td>71.000000</td>\n",
              "    </tr>\n",
              "    <tr>\n",
              "      <th>75%</th>\n",
              "      <td>1.000000</td>\n",
              "      <td>347.000000</td>\n",
              "    </tr>\n",
              "    <tr>\n",
              "      <th>max</th>\n",
              "      <td>80.000000</td>\n",
              "      <td>571.000000</td>\n",
              "    </tr>\n",
              "  </tbody>\n",
              "</table>\n",
              "</div>"
            ]
          },
          "metadata": {
            "tags": []
          },
          "execution_count": 8
        }
      ]
    },
    {
      "cell_type": "code",
      "metadata": {
        "trusted": true,
        "id": "03hoH_YAWML8",
        "colab_type": "code",
        "colab": {}
      },
      "source": [
        "train_img = pd.DataFrame(train_data['images'])"
      ],
      "execution_count": 0,
      "outputs": []
    },
    {
      "cell_type": "code",
      "metadata": {
        "trusted": true,
        "id": "comONRdiWMMA",
        "colab_type": "code",
        "colab": {}
      },
      "source": [
        "indices1 = []\n",
        "indices2 = []\n",
        "indices1.append( train[ train['image_id'] == '896c1198-21bc-11ea-a13a-137349068a90' ].index )\n",
        "indices1.append( train[ train['image_id'] == '8792549a-21bc-11ea-a13a-137349068a90' ].index )\n",
        "indices1.append( train[ train['image_id'] == '87022118-21bc-11ea-a13a-137349068a90' ].index )\n",
        "indices1.append( train[ train['image_id'] == '98a295ba-21bc-11ea-a13a-137349068a90' ].index )\n",
        "indices2.append( train_img[ train_img['id'] == '896c1198-21bc-11ea-a13a-137349068a90' ].index )\n",
        "indices2.append( train_img[ train_img['id'] == '8792549a-21bc-11ea-a13a-137349068a90' ].index )\n",
        "indices2.append( train_img[ train_img['id'] == '87022118-21bc-11ea-a13a-137349068a90' ].index )\n",
        "indices2.append( train_img[ train_img['id'] == '98a295ba-21bc-11ea-a13a-137349068a90' ].index )\n",
        "\n",
        "for _id in train_img[train_img['location'] == 537]['id'].values:\n",
        "    indices1.append( train[ train['image_id'] == _id ].index )\n",
        "    indices2.append(train_img[ train_img['id'] == _id ].index)\n",
        "for the_index in indices1:\n",
        "    train = train.drop(train.index[the_index])\n",
        "for the_index in indices2:\n",
        "    train_img = train_img.drop(train_img.index[the_index])\n"
      ],
      "execution_count": 0,
      "outputs": []
    },
    {
      "cell_type": "code",
      "metadata": {
        "trusted": true,
        "id": "LVa7Mt76WMMD",
        "colab_type": "code",
        "colab": {},
        "outputId": "8791926d-263d-4e33-eadc-80af589d5075"
      },
      "source": [
        "train_img.head()"
      ],
      "execution_count": 0,
      "outputs": [
        {
          "output_type": "execute_result",
          "data": {
            "text/plain": [
              "   seq_num_frames  location                 datetime  \\\n",
              "0               1       267  2013-08-08 11:45:00.000   \n",
              "1               1       264  2013-08-01 22:31:00.000   \n",
              "2               1        45  2013-04-17 11:15:00.000   \n",
              "3               1        45  2013-04-23 08:26:00.000   \n",
              "4               1        45  2013-04-24 13:51:00.000   \n",
              "\n",
              "                                     id  frame_num  \\\n",
              "0  96b00332-21bc-11ea-a13a-137349068a90          1   \n",
              "1  879d74d8-21bc-11ea-a13a-137349068a90          1   \n",
              "2  9017f7aa-21bc-11ea-a13a-137349068a90          1   \n",
              "3  90d93c58-21bc-11ea-a13a-137349068a90          1   \n",
              "4  887cd0ec-21bc-11ea-a13a-137349068a90          1   \n",
              "\n",
              "                                 seq_id  width  height  \\\n",
              "0  96b004ea-21bc-11ea-a13a-137349068a90   1795    1222   \n",
              "1  879d7654-21bc-11ea-a13a-137349068a90   2739    1772   \n",
              "2  9017f8cc-21bc-11ea-a13a-137349068a90   1891    1222   \n",
              "3  90d93e38-21bc-11ea-a13a-137349068a90   1795    1222   \n",
              "4  887cd29a-21bc-11ea-a13a-137349068a90   1812    1196   \n",
              "\n",
              "                                  file_name  \n",
              "0  96b00332-21bc-11ea-a13a-137349068a90.jpg  \n",
              "1  879d74d8-21bc-11ea-a13a-137349068a90.jpg  \n",
              "2  9017f7aa-21bc-11ea-a13a-137349068a90.jpg  \n",
              "3  90d93c58-21bc-11ea-a13a-137349068a90.jpg  \n",
              "4  887cd0ec-21bc-11ea-a13a-137349068a90.jpg  "
            ],
            "text/html": [
              "<div>\n",
              "<style scoped>\n",
              "    .dataframe tbody tr th:only-of-type {\n",
              "        vertical-align: middle;\n",
              "    }\n",
              "\n",
              "    .dataframe tbody tr th {\n",
              "        vertical-align: top;\n",
              "    }\n",
              "\n",
              "    .dataframe thead th {\n",
              "        text-align: right;\n",
              "    }\n",
              "</style>\n",
              "<table border=\"1\" class=\"dataframe\">\n",
              "  <thead>\n",
              "    <tr style=\"text-align: right;\">\n",
              "      <th></th>\n",
              "      <th>seq_num_frames</th>\n",
              "      <th>location</th>\n",
              "      <th>datetime</th>\n",
              "      <th>id</th>\n",
              "      <th>frame_num</th>\n",
              "      <th>seq_id</th>\n",
              "      <th>width</th>\n",
              "      <th>height</th>\n",
              "      <th>file_name</th>\n",
              "    </tr>\n",
              "  </thead>\n",
              "  <tbody>\n",
              "    <tr>\n",
              "      <th>0</th>\n",
              "      <td>1</td>\n",
              "      <td>267</td>\n",
              "      <td>2013-08-08 11:45:00.000</td>\n",
              "      <td>96b00332-21bc-11ea-a13a-137349068a90</td>\n",
              "      <td>1</td>\n",
              "      <td>96b004ea-21bc-11ea-a13a-137349068a90</td>\n",
              "      <td>1795</td>\n",
              "      <td>1222</td>\n",
              "      <td>96b00332-21bc-11ea-a13a-137349068a90.jpg</td>\n",
              "    </tr>\n",
              "    <tr>\n",
              "      <th>1</th>\n",
              "      <td>1</td>\n",
              "      <td>264</td>\n",
              "      <td>2013-08-01 22:31:00.000</td>\n",
              "      <td>879d74d8-21bc-11ea-a13a-137349068a90</td>\n",
              "      <td>1</td>\n",
              "      <td>879d7654-21bc-11ea-a13a-137349068a90</td>\n",
              "      <td>2739</td>\n",
              "      <td>1772</td>\n",
              "      <td>879d74d8-21bc-11ea-a13a-137349068a90.jpg</td>\n",
              "    </tr>\n",
              "    <tr>\n",
              "      <th>2</th>\n",
              "      <td>1</td>\n",
              "      <td>45</td>\n",
              "      <td>2013-04-17 11:15:00.000</td>\n",
              "      <td>9017f7aa-21bc-11ea-a13a-137349068a90</td>\n",
              "      <td>1</td>\n",
              "      <td>9017f8cc-21bc-11ea-a13a-137349068a90</td>\n",
              "      <td>1891</td>\n",
              "      <td>1222</td>\n",
              "      <td>9017f7aa-21bc-11ea-a13a-137349068a90.jpg</td>\n",
              "    </tr>\n",
              "    <tr>\n",
              "      <th>3</th>\n",
              "      <td>1</td>\n",
              "      <td>45</td>\n",
              "      <td>2013-04-23 08:26:00.000</td>\n",
              "      <td>90d93c58-21bc-11ea-a13a-137349068a90</td>\n",
              "      <td>1</td>\n",
              "      <td>90d93e38-21bc-11ea-a13a-137349068a90</td>\n",
              "      <td>1795</td>\n",
              "      <td>1222</td>\n",
              "      <td>90d93c58-21bc-11ea-a13a-137349068a90.jpg</td>\n",
              "    </tr>\n",
              "    <tr>\n",
              "      <th>4</th>\n",
              "      <td>1</td>\n",
              "      <td>45</td>\n",
              "      <td>2013-04-24 13:51:00.000</td>\n",
              "      <td>887cd0ec-21bc-11ea-a13a-137349068a90</td>\n",
              "      <td>1</td>\n",
              "      <td>887cd29a-21bc-11ea-a13a-137349068a90</td>\n",
              "      <td>1812</td>\n",
              "      <td>1196</td>\n",
              "      <td>887cd0ec-21bc-11ea-a13a-137349068a90.jpg</td>\n",
              "    </tr>\n",
              "  </tbody>\n",
              "</table>\n",
              "</div>"
            ]
          },
          "metadata": {
            "tags": []
          },
          "execution_count": 11
        }
      ]
    },
    {
      "cell_type": "code",
      "metadata": {
        "trusted": true,
        "id": "9K98YYQhWMMH",
        "colab_type": "code",
        "colab": {},
        "outputId": "87e92ff2-d005-4f63-e2ca-ed307aa726f7"
      },
      "source": [
        "fig = plt.figure(figsize=(19, 4))\n",
        "ax = sns.distplot(train['category_id'])\n",
        "plt.title('distribution of number of data per category')"
      ],
      "execution_count": 0,
      "outputs": [
        {
          "output_type": "execute_result",
          "data": {
            "text/plain": [
              "Text(0.5, 1.0, 'distribution of number of data per category')"
            ]
          },
          "metadata": {
            "tags": []
          },
          "execution_count": 12
        },
        {
          "output_type": "display_data",
          "data": {
            "text/plain": [
              "<Figure size 1368x288 with 1 Axes>"
            ],
            "image/png": "[encoded data removed]"
          },
          "metadata": {
            "tags": [],
            "needs_background": "light"
          }
        }
      ]
    },
    {
      "cell_type": "code",
      "metadata": {
        "trusted": true,
        "id": "XwjKHzkAWMMM",
        "colab_type": "code",
        "colab": {},
        "outputId": "05906344-af41-439e-eb0f-977105862f0c"
      },
      "source": [
        "fig = plt.figure(figsize=(30, 4))\n",
        "ax = sns.barplot(x=\"category_id\", y=\"cnt\",data=train)\n",
        "plt.title('distribution of count per id')"
      ],
      "execution_count": 0,
      "outputs": [
        {
          "output_type": "execute_result",
          "data": {
            "text/plain": [
              "Text(0.5, 1.0, 'distribution of count per id')"
            ]
          },
          "metadata": {
            "tags": []
          },
          "execution_count": 13
        },
        {
          "output_type": "display_data",
          "data": {
            "text/plain": [
              "<Figure size 2160x288 with 1 Axes>"
            ],
            "image/png": "[encoded data removed]"
          },
          "metadata": {
            "tags": [],
            "needs_background": "light"
          }
        }
      ]
    },
    {
      "cell_type": "code",
      "metadata": {
        "trusted": true,
        "id": "SqBOOzgpWMMQ",
        "colab_type": "code",
        "colab": {},
        "outputId": "075c6e2c-67da-415a-c578-6de23e722cc2"
      },
      "source": [
        "fig = plt.figure(figsize=(30, 4))\n",
        "ax = sns.countplot(train_img['location'])\n",
        "plt.title('distribution of number of animals by location')"
      ],
      "execution_count": 0,
      "outputs": [
        {
          "output_type": "execute_result",
          "data": {
            "text/plain": [
              "Text(0.5, 1.0, 'distribution of number of animals by location')"
            ]
          },
          "metadata": {
            "tags": []
          },
          "execution_count": 14
        },
        {
          "output_type": "display_data",
          "data": {
            "text/plain": [
              "<Figure size 2160x288 with 1 Axes>"
            ],
            "image/png": "[encoded data removed]"
          },
          "metadata": {
            "tags": [],
            "needs_background": "light"
          }
        }
      ]
    },
    {
      "cell_type": "code",
      "metadata": {
        "trusted": true,
        "id": "x6SBNlYxWMMU",
        "colab_type": "code",
        "colab": {}
      },
      "source": [
        "labels_month = sorted(list(set(train_img['datetime'].map(lambda str: str[5:7]))))\n",
        "# fig, ax = plt.subplots(1,2, figsize=(20,7)\n",
        "plt.title('Count of train data per month')\n",
        "ax = sns.countplot(train_img['datetime'].map(lambda str: str[5:7] ), order=labels_month)\n",
        "ax.set(xlabel='Month', ylabel='count')\n",
        "# ax.set(ylim=(0,55000))"
      ],
      "execution_count": 0,
      "outputs": []
    },
    {
      "cell_type": "code",
      "metadata": {
        "trusted": true,
        "id": "0tboEoaeWMMX",
        "colab_type": "code",
        "colab": {},
        "outputId": "70de5b00-3281-4fad-9697-c30eb15467ce"
      },
      "source": [
        "train_img.describe()"
      ],
      "execution_count": 0,
      "outputs": [
        {
          "output_type": "execute_result",
          "data": {
            "text/plain": [
              "       seq_num_frames       location      frame_num          width  \\\n",
              "count   217914.000000  217914.000000  217914.000000  217914.000000   \n",
              "mean        34.139115     310.306272      20.739241    1830.577719   \n",
              "std        237.602445     162.787175     189.008182     310.847071   \n",
              "min         -1.000000       0.000000      -1.000000      -1.000000   \n",
              "25%         -1.000000     176.000000      -1.000000    1920.000000   \n",
              "50%          3.000000     336.000000       1.000000    1920.000000   \n",
              "75%         10.000000     464.000000       5.000000    2048.000000   \n",
              "max       3899.000000     551.000000    3899.000000    3565.000000   \n",
              "\n",
              "              height  \n",
              "count  217914.000000  \n",
              "mean     1262.520719  \n",
              "std       249.826925  \n",
              "min        -1.000000  \n",
              "25%      1080.000000  \n",
              "50%      1080.000000  \n",
              "75%      1536.000000  \n",
              "max      2226.000000  "
            ],
            "text/html": [
              "<div>\n",
              "<style scoped>\n",
              "    .dataframe tbody tr th:only-of-type {\n",
              "        vertical-align: middle;\n",
              "    }\n",
              "\n",
              "    .dataframe tbody tr th {\n",
              "        vertical-align: top;\n",
              "    }\n",
              "\n",
              "    .dataframe thead th {\n",
              "        text-align: right;\n",
              "    }\n",
              "</style>\n",
              "<table border=\"1\" class=\"dataframe\">\n",
              "  <thead>\n",
              "    <tr style=\"text-align: right;\">\n",
              "      <th></th>\n",
              "      <th>seq_num_frames</th>\n",
              "      <th>location</th>\n",
              "      <th>frame_num</th>\n",
              "      <th>width</th>\n",
              "      <th>height</th>\n",
              "    </tr>\n",
              "  </thead>\n",
              "  <tbody>\n",
              "    <tr>\n",
              "      <th>count</th>\n",
              "      <td>217914.000000</td>\n",
              "      <td>217914.000000</td>\n",
              "      <td>217914.000000</td>\n",
              "      <td>217914.000000</td>\n",
              "      <td>217914.000000</td>\n",
              "    </tr>\n",
              "    <tr>\n",
              "      <th>mean</th>\n",
              "      <td>34.139115</td>\n",
              "      <td>310.306272</td>\n",
              "      <td>20.739241</td>\n",
              "      <td>1830.577719</td>\n",
              "      <td>1262.520719</td>\n",
              "    </tr>\n",
              "    <tr>\n",
              "      <th>std</th>\n",
              "      <td>237.602445</td>\n",
              "      <td>162.787175</td>\n",
              "      <td>189.008182</td>\n",
              "      <td>310.847071</td>\n",
              "      <td>249.826925</td>\n",
              "    </tr>\n",
              "    <tr>\n",
              "      <th>min</th>\n",
              "      <td>-1.000000</td>\n",
              "      <td>0.000000</td>\n",
              "      <td>-1.000000</td>\n",
              "      <td>-1.000000</td>\n",
              "      <td>-1.000000</td>\n",
              "    </tr>\n",
              "    <tr>\n",
              "      <th>25%</th>\n",
              "      <td>-1.000000</td>\n",
              "      <td>176.000000</td>\n",
              "      <td>-1.000000</td>\n",
              "      <td>1920.000000</td>\n",
              "      <td>1080.000000</td>\n",
              "    </tr>\n",
              "    <tr>\n",
              "      <th>50%</th>\n",
              "      <td>3.000000</td>\n",
              "      <td>336.000000</td>\n",
              "      <td>1.000000</td>\n",
              "      <td>1920.000000</td>\n",
              "      <td>1080.000000</td>\n",
              "    </tr>\n",
              "    <tr>\n",
              "      <th>75%</th>\n",
              "      <td>10.000000</td>\n",
              "      <td>464.000000</td>\n",
              "      <td>5.000000</td>\n",
              "      <td>2048.000000</td>\n",
              "      <td>1536.000000</td>\n",
              "    </tr>\n",
              "    <tr>\n",
              "      <th>max</th>\n",
              "      <td>3899.000000</td>\n",
              "      <td>551.000000</td>\n",
              "      <td>3899.000000</td>\n",
              "      <td>3565.000000</td>\n",
              "      <td>2226.000000</td>\n",
              "    </tr>\n",
              "  </tbody>\n",
              "</table>\n",
              "</div>"
            ]
          },
          "metadata": {
            "tags": []
          },
          "execution_count": 15
        }
      ]
    },
    {
      "cell_type": "code",
      "metadata": {
        "trusted": true,
        "id": "9h3MHbLZWMMa",
        "colab_type": "code",
        "colab": {},
        "outputId": "4c4f3e6a-2622-48af-ebac-1aa78e965919"
      },
      "source": [
        "train.describe()"
      ],
      "execution_count": 0,
      "outputs": [
        {
          "output_type": "execute_result",
          "data": {
            "text/plain": [
              "                 cnt    category_id\n",
              "count  217914.000000  217914.000000\n",
              "mean        1.445244     144.358830\n",
              "std         2.913168     167.491941\n",
              "min        -1.000000       0.000000\n",
              "25%         1.000000       0.000000\n",
              "50%         1.000000      71.000000\n",
              "75%         1.000000     347.000000\n",
              "max        80.000000     571.000000"
            ],
            "text/html": [
              "<div>\n",
              "<style scoped>\n",
              "    .dataframe tbody tr th:only-of-type {\n",
              "        vertical-align: middle;\n",
              "    }\n",
              "\n",
              "    .dataframe tbody tr th {\n",
              "        vertical-align: top;\n",
              "    }\n",
              "\n",
              "    .dataframe thead th {\n",
              "        text-align: right;\n",
              "    }\n",
              "</style>\n",
              "<table border=\"1\" class=\"dataframe\">\n",
              "  <thead>\n",
              "    <tr style=\"text-align: right;\">\n",
              "      <th></th>\n",
              "      <th>cnt</th>\n",
              "      <th>category_id</th>\n",
              "    </tr>\n",
              "  </thead>\n",
              "  <tbody>\n",
              "    <tr>\n",
              "      <th>count</th>\n",
              "      <td>217914.000000</td>\n",
              "      <td>217914.000000</td>\n",
              "    </tr>\n",
              "    <tr>\n",
              "      <th>mean</th>\n",
              "      <td>1.445244</td>\n",
              "      <td>144.358830</td>\n",
              "    </tr>\n",
              "    <tr>\n",
              "      <th>std</th>\n",
              "      <td>2.913168</td>\n",
              "      <td>167.491941</td>\n",
              "    </tr>\n",
              "    <tr>\n",
              "      <th>min</th>\n",
              "      <td>-1.000000</td>\n",
              "      <td>0.000000</td>\n",
              "    </tr>\n",
              "    <tr>\n",
              "      <th>25%</th>\n",
              "      <td>1.000000</td>\n",
              "      <td>0.000000</td>\n",
              "    </tr>\n",
              "    <tr>\n",
              "      <th>50%</th>\n",
              "      <td>1.000000</td>\n",
              "      <td>71.000000</td>\n",
              "    </tr>\n",
              "    <tr>\n",
              "      <th>75%</th>\n",
              "      <td>1.000000</td>\n",
              "      <td>347.000000</td>\n",
              "    </tr>\n",
              "    <tr>\n",
              "      <th>max</th>\n",
              "      <td>80.000000</td>\n",
              "      <td>571.000000</td>\n",
              "    </tr>\n",
              "  </tbody>\n",
              "</table>\n",
              "</div>"
            ]
          },
          "metadata": {
            "tags": []
          },
          "execution_count": 16
        }
      ]
    },
    {
      "cell_type": "code",
      "metadata": {
        "trusted": true,
        "id": "HEEkS6N4WMMd",
        "colab_type": "code",
        "colab": {}
      },
      "source": [
        "train_img = train_img\n",
        "train = train"
      ],
      "execution_count": 0,
      "outputs": []
    },
    {
      "cell_type": "code",
      "metadata": {
        "trusted": true,
        "id": "LTBUyJSEWMMk",
        "colab_type": "code",
        "colab": {}
      },
      "source": [
        "train_img['category'] = train['category_id']"
      ],
      "execution_count": 0,
      "outputs": []
    },
    {
      "cell_type": "code",
      "metadata": {
        "trusted": true,
        "id": "VmEWy9JJWMMm",
        "colab_type": "code",
        "colab": {}
      },
      "source": [
        "train_img.drop(train_img.columns.difference(['file_name','category']), 1, inplace=True)"
      ],
      "execution_count": 0,
      "outputs": []
    },
    {
      "cell_type": "code",
      "metadata": {
        "trusted": true,
        "id": "NML3SCF4WMMp",
        "colab_type": "code",
        "colab": {}
      },
      "source": [
        "train_img['category'] = train_img['category'].apply(str)"
      ],
      "execution_count": 0,
      "outputs": []
    },
    {
      "cell_type": "code",
      "metadata": {
        "trusted": true,
        "id": "tItmMcvGWMMr",
        "colab_type": "code",
        "colab": {},
        "outputId": "941dafef-d965-4fd4-99a6-a4d39e1be159"
      },
      "source": [
        "train_img.head()"
      ],
      "execution_count": 0,
      "outputs": [
        {
          "output_type": "execute_result",
          "data": {
            "text/plain": [
              "                                  file_name category\n",
              "0  96b00332-21bc-11ea-a13a-137349068a90.jpg       73\n",
              "1  879d74d8-21bc-11ea-a13a-137349068a90.jpg        4\n",
              "2  9017f7aa-21bc-11ea-a13a-137349068a90.jpg      227\n",
              "3  90d93c58-21bc-11ea-a13a-137349068a90.jpg      250\n",
              "4  887cd0ec-21bc-11ea-a13a-137349068a90.jpg        2"
            ],
            "text/html": [
              "<div>\n",
              "<style scoped>\n",
              "    .dataframe tbody tr th:only-of-type {\n",
              "        vertical-align: middle;\n",
              "    }\n",
              "\n",
              "    .dataframe tbody tr th {\n",
              "        vertical-align: top;\n",
              "    }\n",
              "\n",
              "    .dataframe thead th {\n",
              "        text-align: right;\n",
              "    }\n",
              "</style>\n",
              "<table border=\"1\" class=\"dataframe\">\n",
              "  <thead>\n",
              "    <tr style=\"text-align: right;\">\n",
              "      <th></th>\n",
              "      <th>file_name</th>\n",
              "      <th>category</th>\n",
              "    </tr>\n",
              "  </thead>\n",
              "  <tbody>\n",
              "    <tr>\n",
              "      <th>0</th>\n",
              "      <td>96b00332-21bc-11ea-a13a-137349068a90.jpg</td>\n",
              "      <td>73</td>\n",
              "    </tr>\n",
              "    <tr>\n",
              "      <th>1</th>\n",
              "      <td>879d74d8-21bc-11ea-a13a-137349068a90.jpg</td>\n",
              "      <td>4</td>\n",
              "    </tr>\n",
              "    <tr>\n",
              "      <th>2</th>\n",
              "      <td>9017f7aa-21bc-11ea-a13a-137349068a90.jpg</td>\n",
              "      <td>227</td>\n",
              "    </tr>\n",
              "    <tr>\n",
              "      <th>3</th>\n",
              "      <td>90d93c58-21bc-11ea-a13a-137349068a90.jpg</td>\n",
              "      <td>250</td>\n",
              "    </tr>\n",
              "    <tr>\n",
              "      <th>4</th>\n",
              "      <td>887cd0ec-21bc-11ea-a13a-137349068a90.jpg</td>\n",
              "      <td>2</td>\n",
              "    </tr>\n",
              "  </tbody>\n",
              "</table>\n",
              "</div>"
            ]
          },
          "metadata": {
            "tags": []
          },
          "execution_count": 21
        }
      ]
    },
    {
      "cell_type": "code",
      "metadata": {
        "trusted": true,
        "id": "BRqnZJ2uWMMu",
        "colab_type": "code",
        "colab": {},
        "outputId": "d4f38864-53be-4993-b705-b1fd72d8de54"
      },
      "source": [
        "train_img[ train_img['file_name'] == '883572ba-21bc-11ea-a13a-137349068a90.jpg' ].index"
      ],
      "execution_count": 0,
      "outputs": [
        {
          "output_type": "execute_result",
          "data": {
            "text/plain": [
              "Int64Index([123653], dtype='int64')"
            ]
          },
          "metadata": {
            "tags": []
          },
          "execution_count": 22
        }
      ]
    },
    {
      "cell_type": "code",
      "metadata": {
        "trusted": true,
        "id": "BGwuMk_FWMMy",
        "colab_type": "code",
        "colab": {}
      },
      "source": [
        "train_img.drop(123658,inplace=True)"
      ],
      "execution_count": 0,
      "outputs": []
    },
    {
      "cell_type": "code",
      "metadata": {
        "trusted": true,
        "id": "d04vL8PDWMM0",
        "colab_type": "code",
        "colab": {}
      },
      "source": [
        "train_img.drop(123651,inplace=True)"
      ],
      "execution_count": 0,
      "outputs": []
    },
    {
      "cell_type": "code",
      "metadata": {
        "trusted": true,
        "id": "93DK-6v9WMM5",
        "colab_type": "code",
        "colab": {}
      },
      "source": [
        "train_img.drop(123653,inplace=True)"
      ],
      "execution_count": 0,
      "outputs": []
    },
    {
      "cell_type": "code",
      "metadata": {
        "trusted": true,
        "id": "3slLghZZWMM9",
        "colab_type": "code",
        "colab": {}
      },
      "source": [
        "# !pip install tensorflow-gpu==1.14.0\n",
        "# !pip install keras==2.2.4"
      ],
      "execution_count": 0,
      "outputs": []
    },
    {
      "cell_type": "code",
      "metadata": {
        "trusted": true,
        "id": "l_2Nv0qsWMNC",
        "colab_type": "code",
        "colab": {}
      },
      "source": [
        "\n",
        "import tensorflow as tf\n",
        "from tensorflow.keras import layers\n",
        "from tensorflow.keras import Model\n",
        "from tensorflow.keras.preprocessing.image import ImageDataGenerator\n",
        "import pickle\n",
        "import numpy as np \n",
        "import pandas as pd\n",
        "import matplotlib.pyplot as plt\n",
        "import cv2\n",
        "from sklearn.model_selection import train_test_split\n",
        "# import pickle\n",
        "import dill\n",
        "from tqdm import tqdm\n",
        "\n",
        "from os import makedirs\n",
        "from os.path import expanduser, exists, join"
      ],
      "execution_count": 0,
      "outputs": []
    },
    {
      "cell_type": "code",
      "metadata": {
        "trusted": true,
        "id": "H5XtBsE7WMNF",
        "colab_type": "code",
        "colab": {}
      },
      "source": [
        "train_datagen = ImageDataGenerator(\n",
        "    rescale=1./255, \n",
        "    horizontal_flip = True,    \n",
        "    zoom_range = 0.3,\n",
        "    width_shift_range = 0.3,\n",
        "    height_shift_range=0.3,\n",
        "   rotation_range = 40,\n",
        "   shear_range = 0.3,\n",
        "   channel_shift_range=150.0,\n",
        "   fill_mode='nearest',\n",
        "   brightness_range=(0.2, 0.9)\n",
        ")\n",
        "# (max_rotate=20, max_zoom=1.3, max_lighting=0.4, max_warp=0.4,\n",
        "#                       p_affine=1., p_lighting=1."
      ],
      "execution_count": 0,
      "outputs": []
    },
    {
      "cell_type": "code",
      "metadata": {
        "trusted": true,
        "id": "HARvUrj0WMNK",
        "colab_type": "code",
        "colab": {},
        "outputId": "c88b7b5c-cb26-42b4-b004-e6cb0dd1dca7"
      },
      "source": [
        "train_generator = train_datagen.flow_from_dataframe(\n",
        "        dataframe=train_img[90000:120000],\n",
        "        directory='/kaggle/input/iwildcam-2020-fgvc7/train',\n",
        "        x_col=\"file_name\",\n",
        "        y_col=\"category\",\n",
        "        target_size=(150,150),\n",
        "        batch_size=256,\n",
        "        classes = train_img['category'].unique().tolist(),\n",
        "        class_mode='categorical')"
      ],
      "execution_count": 0,
      "outputs": [
        {
          "output_type": "stream",
          "text": [
            "Found 30000 validated image filenames belonging to 216 classes.\n"
          ],
          "name": "stdout"
        }
      ]
    },
    {
      "cell_type": "code",
      "metadata": {
        "trusted": true,
        "id": "zZRq-As5WMNQ",
        "colab_type": "code",
        "colab": {}
      },
      "source": [
        "labels = (train_generator.class_indices)\n",
        "labels = dict((v,k) for k,v in labels.items())"
      ],
      "execution_count": 0,
      "outputs": []
    },
    {
      "cell_type": "code",
      "metadata": {
        "trusted": true,
        "id": "5qT-5fu3WMNU",
        "colab_type": "code",
        "colab": {},
        "outputId": "588112e2-e2ea-4780-eddb-76ec0de66451"
      },
      "source": [
        "print(labels)"
      ],
      "execution_count": 0,
      "outputs": [
        {
          "output_type": "stream",
          "text": [
            "{0: '0', 1: '10', 2: '100', 3: '101', 4: '102', 5: '103', 6: '104', 7: '106', 8: '108', 9: '110', 10: '111', 11: '112', 12: '113', 13: '114', 14: '115', 15: '116', 16: '118', 17: '119', 18: '12', 19: '120', 20: '121', 21: '122', 22: '123', 23: '124', 24: '127', 25: '129', 26: '13', 27: '130', 28: '133', 29: '134', 30: '137', 31: '139', 32: '14', 33: '141', 34: '142', 35: '144', 36: '145', 37: '147', 38: '15', 39: '150', 40: '152', 41: '153', 42: '154', 43: '156', 44: '159', 45: '16', 46: '161', 47: '162', 48: '163', 49: '166', 50: '167', 51: '170', 52: '175', 53: '177', 54: '198', 55: '2', 56: '20', 57: '221', 58: '227', 59: '229', 60: '230', 61: '233', 62: '234', 63: '235', 64: '24', 65: '240', 66: '242', 67: '243', 68: '245', 69: '25', 70: '250', 71: '251', 72: '252', 73: '253', 74: '256', 75: '257', 76: '258', 77: '259', 78: '26', 79: '262', 80: '265', 81: '267', 82: '268', 83: '273', 84: '286', 85: '290', 86: '291', 87: '292', 88: '294', 89: '296', 90: '299', 91: '3', 92: '300', 93: '301', 94: '302', 95: '306', 96: '307', 97: '309', 98: '310', 99: '315', 100: '316', 101: '317', 102: '318', 103: '319', 104: '32', 105: '320', 106: '321', 107: '322', 108: '323', 109: '324', 110: '325', 111: '326', 112: '327', 113: '328', 114: '330', 115: '332', 116: '333', 117: '334', 118: '335', 119: '336', 120: '337', 121: '338', 122: '339', 123: '340', 124: '341', 125: '342', 126: '344', 127: '345', 128: '346', 129: '347', 130: '348', 131: '349', 132: '350', 133: '352', 134: '353', 135: '354', 136: '355', 137: '356', 138: '357', 139: '370', 140: '371', 141: '372', 142: '374', 143: '375', 144: '376', 145: '377', 146: '378', 147: '379', 148: '380', 149: '382', 150: '384', 151: '385', 152: '389', 153: '390', 154: '391', 155: '4', 156: '402', 157: '404', 158: '405', 159: '406', 160: '407', 161: '408', 162: '409', 163: '410', 164: '412', 165: '413', 166: '414', 167: '415', 168: '416', 169: '417', 170: '418', 171: '419', 172: '420', 173: '422', 174: '44', 175: '454', 176: '50', 177: '558', 178: '559', 179: '561', 180: '562', 181: '563', 182: '564', 183: '565', 184: '566', 185: '567', 186: '568', 187: '569', 188: '570', 189: '571', 190: '6', 191: '62', 192: '67', 193: '7', 194: '70', 195: '71', 196: '72', 197: '73', 198: '74', 199: '77', 200: '78', 201: '79', 202: '8', 203: '80', 204: '83', 205: '86', 206: '89', 207: '9', 208: '90', 209: '91', 210: '92', 211: '94', 212: '96', 213: '97', 214: '98', 215: '99'}\n"
          ],
          "name": "stdout"
        }
      ]
    },
    {
      "cell_type": "code",
      "metadata": {
        "trusted": true,
        "id": "oaZ_UCx6WMNX",
        "colab_type": "code",
        "colab": {}
      },
      "source": [
        "# cache_dir = expanduser(join('~', '.keras'))\n",
        "# if not exists(cache_dir):\n",
        "#     makedirs(cache_dir)\n",
        "# models_dir = join(cache_dir, 'models')\n",
        "# if not exists(models_dir):\n",
        "#     makedirs(models_dir)\n",
        "    \n",
        "# !cp ../input/keras-pretrained-models/*notop* ~/.keras/models/\n",
        "# !cp ../input/keras-pretrained-models/imagenet_class_index.json ~/.keras/models/\n",
        "# !cp ../input/keras-pretrained-models/resnet50* ~/.keras/models/"
      ],
      "execution_count": 0,
      "outputs": []
    },
    {
      "cell_type": "code",
      "metadata": {
        "trusted": true,
        "id": "ykAUsE5UWMNa",
        "colab_type": "code",
        "colab": {}
      },
      "source": [
        "!ls ../input/keras-pretrained-models/ "
      ],
      "execution_count": 0,
      "outputs": []
    },
    {
      "cell_type": "code",
      "metadata": {
        "trusted": true,
        "id": "5tMpu_EzWMNd",
        "colab_type": "code",
        "colab": {}
      },
      "source": [
        "# !git clone https://github.com/qubvel/efficientnet.git"
      ],
      "execution_count": 0,
      "outputs": []
    },
    {
      "cell_type": "code",
      "metadata": {
        "trusted": true,
        "id": "vC1LgzFkWMNi",
        "colab_type": "code",
        "colab": {}
      },
      "source": [
        "# import efficientnet.efficientnet.tfkeras as efn"
      ],
      "execution_count": 0,
      "outputs": []
    },
    {
      "cell_type": "code",
      "metadata": {
        "trusted": true,
        "id": "iCUWWGPeWMNl",
        "colab_type": "code",
        "colab": {}
      },
      "source": [
        "from tensorflow.keras.applications import inception_v3\n",
        "from tensorflow.keras.models import Sequential\n",
        "from tensorflow.keras.layers import Dense,Flatten,Dropout,BatchNormalization, GlobalAveragePooling2D\n",
        "from tensorflow.keras.optimizers import Adam"
      ],
      "execution_count": 0,
      "outputs": []
    },
    {
      "cell_type": "code",
      "metadata": {
        "trusted": true,
        "id": "1nc4a2HbWMNp",
        "colab_type": "code",
        "colab": {}
      },
      "source": [
        "pre_trained_model = tf.keras.applications.InceptionV3(include_top=False,input_shape = (150, 150, 3),\n",
        "                                                weights='../input/keras-pretrained-models/inception_v3_weights_tf_dim_ordering_tf_kernels_notop.h5')"
      ],
      "execution_count": 0,
      "outputs": []
    },
    {
      "cell_type": "code",
      "metadata": {
        "trusted": true,
        "id": "GWG3R7opWMNr",
        "colab_type": "code",
        "colab": {}
      },
      "source": [
        "# pre_trained_model = efn.EfficientNetB7(weights='imagenet', include_top=False, pooling='avg', input_shape=(96, 96, 3))"
      ],
      "execution_count": 0,
      "outputs": []
    },
    {
      "cell_type": "code",
      "metadata": {
        "trusted": true,
        "id": "8thLhQxwWMNv",
        "colab_type": "code",
        "colab": {}
      },
      "source": [
        "for layer in pre_trained_model.layers:\n",
        "    layer.trainable = False"
      ],
      "execution_count": 0,
      "outputs": []
    },
    {
      "cell_type": "code",
      "metadata": {
        "trusted": true,
        "id": "RLmabctpWMN0",
        "colab_type": "code",
        "colab": {}
      },
      "source": [
        "# x = pre_trained_model.output\n",
        "# predictions = Dense(573, activation=\"softmax\")(x)\n",
        "# model = Model(inputs=pre_trained_model.input, outputs=predictions)"
      ],
      "execution_count": 0,
      "outputs": []
    },
    {
      "cell_type": "code",
      "metadata": {
        "trusted": true,
        "id": "V8guGYQLWMN3",
        "colab_type": "code",
        "colab": {}
      },
      "source": [
        "model = Sequential()\n",
        "    # first (and only) set of FC => RELU layers\n",
        "model.add(Flatten())\n",
        "model.add(Dense(1024, activation='relu'))\n",
        "model.add(Dropout(0.3))\n",
        "model.add(BatchNormalization())\n",
        "model.add(Dense(512, activation='relu'))\n",
        "model.add(Dropout(0.3))\n",
        "model.add(BatchNormalization())\n",
        "model.add(Dense(216,activation='softmax'))"
      ],
      "execution_count": 0,
      "outputs": []
    },
    {
      "cell_type": "code",
      "metadata": {
        "trusted": true,
        "id": "E__6vTR1WMN7",
        "colab_type": "code",
        "colab": {}
      },
      "source": [
        "pretrainedInput = pre_trained_model.input\n",
        "pretrainedOutput = pre_trained_model.output\n",
        "output = model(pretrainedOutput)\n",
        "model = Model(pretrainedInput, output)"
      ],
      "execution_count": 0,
      "outputs": []
    },
    {
      "cell_type": "code",
      "metadata": {
        "trusted": true,
        "id": "BTRHMpkRWMN-",
        "colab_type": "code",
        "colab": {}
      },
      "source": [
        "model.compile(Adam(), loss='categorical_crossentropy', metrics=['accuracy'])"
      ],
      "execution_count": 0,
      "outputs": []
    },
    {
      "cell_type": "code",
      "metadata": {
        "trusted": true,
        "id": "KjOWjJkkWMOC",
        "colab_type": "code",
        "colab": {}
      },
      "source": [
        "model.summary()"
      ],
      "execution_count": 0,
      "outputs": []
    },
    {
      "cell_type": "code",
      "metadata": {
        "trusted": true,
        "id": "JS4KKh2MWMOJ",
        "colab_type": "code",
        "colab": {}
      },
      "source": [
        "history = new_model.fit_generator(\n",
        "        train_generator,\n",
        "        steps_per_epoch=train_generator.n//train_generator.batch_size+1,\n",
        "        epochs=5,\n",
        "        shuffle = True,\n",
        "        verbose = 1)"
      ],
      "execution_count": 0,
      "outputs": []
    },
    {
      "cell_type": "code",
      "metadata": {
        "trusted": true,
        "id": "pKPDmVT4WMON",
        "colab_type": "code",
        "colab": {}
      },
      "source": [
        ""
      ],
      "execution_count": 0,
      "outputs": []
    },
    {
      "cell_type": "code",
      "metadata": {
        "trusted": true,
        "id": "AiHMPJ5uWMOR",
        "colab_type": "code",
        "colab": {}
      },
      "source": [
        "import matplotlib.pyplot as plt\n",
        "acc = history.history['accuracy']\n",
        "loss = history.history['loss']\n",
        "\n",
        "epochs = range(len(acc))\n",
        "\n",
        "plt.plot(epochs, acc, 'r', label='Training accuracy')\n",
        "plt.title('Training accuracy vs epochs')\n",
        "plt.legend(loc=0)\n",
        "plt.figure()\n",
        "\n",
        "\n",
        "plt.show()"
      ],
      "execution_count": 0,
      "outputs": []
    },
    {
      "cell_type": "code",
      "metadata": {
        "_kg_hide-output": true,
        "trusted": true,
        "id": "d74kUdSNWMOV",
        "colab_type": "code",
        "colab": {}
      },
      "source": [
        "new_model.save('Modeln.h5')"
      ],
      "execution_count": 0,
      "outputs": []
    },
    {
      "cell_type": "code",
      "metadata": {
        "trusted": true,
        "id": "iuYcEk4jWMOX",
        "colab_type": "code",
        "colab": {}
      },
      "source": [
        "FileLink('Modeln.h5')"
      ],
      "execution_count": 0,
      "outputs": []
    },
    {
      "cell_type": "code",
      "metadata": {
        "trusted": true,
        "id": "PAXi62UGWMOZ",
        "colab_type": "code",
        "colab": {}
      },
      "source": [
        "test = pd.DataFrame(test_data['images'])"
      ],
      "execution_count": 0,
      "outputs": []
    },
    {
      "cell_type": "code",
      "metadata": {
        "trusted": true,
        "id": "GhKggGPyWMOb",
        "colab_type": "code",
        "colab": {}
      },
      "source": [
        "test.head()"
      ],
      "execution_count": 0,
      "outputs": []
    },
    {
      "cell_type": "code",
      "metadata": {
        "trusted": true,
        "id": "X2UcI-9FWMOh",
        "colab_type": "code",
        "colab": {}
      },
      "source": [
        "test.describe()"
      ],
      "execution_count": 0,
      "outputs": []
    },
    {
      "cell_type": "code",
      "metadata": {
        "trusted": true,
        "id": "Krs7xEO6WMOp",
        "colab_type": "code",
        "colab": {}
      },
      "source": [
        "test_data.keys()"
      ],
      "execution_count": 0,
      "outputs": []
    },
    {
      "cell_type": "code",
      "metadata": {
        "trusted": true,
        "id": "suRwwIzOWMOw",
        "colab_type": "code",
        "colab": {}
      },
      "source": [
        "test_datagen = ImageDataGenerator(rescale = 1./255.)\n"
      ],
      "execution_count": 0,
      "outputs": []
    },
    {
      "cell_type": "code",
      "metadata": {
        "trusted": true,
        "id": "x4YiPb99WMOz",
        "colab_type": "code",
        "colab": {}
      },
      "source": [
        "test_generator = test_datagen.flow_from_dataframe(\n",
        "        dataframe=test,\n",
        "        directory='/kaggle/input/iwildcam-2020-fgvc7/test',\n",
        "        x_col=\"file_name\",\n",
        "        target_size=(150, 150),\n",
        "        batch_size=64,class_mode=None)"
      ],
      "execution_count": 0,
      "outputs": []
    },
    {
      "cell_type": "code",
      "metadata": {
        "trusted": true,
        "id": "NNuMfOQiWMO6",
        "colab_type": "code",
        "colab": {}
      },
      "source": [
        "new_model = tf.keras.models.load_model('/kaggle/input/model-1/Modeln.h5')"
      ],
      "execution_count": 0,
      "outputs": []
    },
    {
      "cell_type": "code",
      "metadata": {
        "trusted": true,
        "id": "Ik6HZPrjWMO8",
        "colab_type": "code",
        "colab": {}
      },
      "source": [
        "preds = new_model.predict_generator(test_generator,\n",
        "steps=test_generator.n//test_generator.batch_size+1,\n",
        "verbose=1)"
      ],
      "execution_count": 0,
      "outputs": []
    },
    {
      "cell_type": "code",
      "metadata": {
        "trusted": true,
        "id": "PVN5fZ3HWMO-",
        "colab_type": "code",
        "colab": {}
      },
      "source": [
        ""
      ],
      "execution_count": 0,
      "outputs": []
    },
    {
      "cell_type": "code",
      "metadata": {
        "trusted": true,
        "id": "ljP8mksRWMPB",
        "colab_type": "code",
        "colab": {}
      },
      "source": [
        "predicted_class_indices=np.argmax(preds,axis=1)"
      ],
      "execution_count": 0,
      "outputs": []
    },
    {
      "cell_type": "code",
      "metadata": {
        "trusted": true,
        "id": "Ws5y7v5BWMPE",
        "colab_type": "code",
        "colab": {}
      },
      "source": [
        "labels = (train_generator.class_indices)\n",
        "labels = dict((v,k) for k,v in labels.items())\n",
        "predictions = [labels[k] for k in predicted_class_indices]"
      ],
      "execution_count": 0,
      "outputs": []
    },
    {
      "cell_type": "code",
      "metadata": {
        "trusted": true,
        "id": "1o1q0b7KWMPK",
        "colab_type": "code",
        "colab": {}
      },
      "source": [
        "Id=test.id"
      ],
      "execution_count": 0,
      "outputs": []
    },
    {
      "cell_type": "code",
      "metadata": {
        "trusted": true,
        "id": "xN-cU3iGWMPM",
        "colab_type": "code",
        "colab": {}
      },
      "source": [
        "results=pd.DataFrame({\"Id\":Id,\n",
        "                      \"Category\":predictions})"
      ],
      "execution_count": 0,
      "outputs": []
    },
    {
      "cell_type": "code",
      "metadata": {
        "trusted": true,
        "id": "WB-4Ne_GWMPO",
        "colab_type": "code",
        "colab": {}
      },
      "source": [
        "submission = pd.read_csv('/kaggle/input/iwildcam-2020-fgvc7/sample_submission.csv')\n",
        "submission = submission.drop(['Category'], axis=1)\n",
        "submission = submission.merge(results, on='Id')\n",
        "submission.to_csv('modeln.csv', index=False)"
      ],
      "execution_count": 0,
      "outputs": []
    },
    {
      "cell_type": "code",
      "metadata": {
        "trusted": true,
        "id": "PH_eA3_lWMPP",
        "colab_type": "code",
        "colab": {}
      },
      "source": [
        "FileLink('modeln.csv')"
      ],
      "execution_count": 0,
      "outputs": []
    },
    {
      "cell_type": "code",
      "metadata": {
        "trusted": true,
        "id": "V-zGyNkEWMPR",
        "colab_type": "code",
        "colab": {}
      },
      "source": [
        "\n",
        "# results.to_csv(\"results.csv\",index=False)"
      ],
      "execution_count": 0,
      "outputs": []
    }
  ]
}