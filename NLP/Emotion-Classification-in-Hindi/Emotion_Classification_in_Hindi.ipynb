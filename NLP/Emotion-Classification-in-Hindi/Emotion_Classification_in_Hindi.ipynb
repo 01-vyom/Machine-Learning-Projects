{
  "nbformat": 4,
  "nbformat_minor": 0,
  "metadata": {
    "colab": {
      "name": "Emotion Classification in Hindi.ipynb",
      "provenance": [],
      "collapsed_sections": [],
      "toc_visible": true,
      "mount_file_id": "1wPjs6Qh29V-U95PRNci83Z_UV88yiQHM",
      "authorship_tag": "ABX9TyOSulYe/4tBr74vnC5P8zVP",
      "include_colab_link": true
    },
    "kernelspec": {
      "name": "python3",
      "display_name": "Python 3"
    },
    "accelerator": "GPU"
  },
  "cells": [
    {
      "cell_type": "markdown",
      "metadata": {
        "id": "view-in-github",
        "colab_type": "text"
      },
      "source": [
        "<a href=\"https://colab.research.google.com/github/01-vyom/Emotion-Classification-in-Hindi/blob/master/Emotion_Classification_in_Hindi.ipynb\" target=\"_parent\"><img src=\"https://colab.research.google.com/assets/colab-badge.svg\" alt=\"Open In Colab\"/></a>"
      ]
    },
    {
      "cell_type": "markdown",
      "metadata": {
        "id": "Putzl66zqYmr",
        "colab_type": "text"
      },
      "source": [
        "# Dataset Manipulations"
      ]
    },
    {
      "cell_type": "markdown",
      "metadata": {
        "id": "WtOD7IIORvqN",
        "colab_type": "text"
      },
      "source": [
        "## Import"
      ]
    },
    {
      "cell_type": "code",
      "metadata": {
        "id": "4n0srycyqTL-",
        "colab_type": "code",
        "outputId": "2e893d8f-1248-4c7c-9290-49593836b159",
        "colab": {
          "base_uri": "https://localhost:8080/",
          "height": 241
        }
      },
      "source": [
        "%tensorflow_version 2.x\n",
        "import csv\n",
        "import tensorflow as tf\n",
        "import numpy as np\n",
        "from tensorflow.keras.preprocessing.text import Tokenizer\n",
        "from tensorflow.keras.preprocessing.sequence import pad_sequences\n",
        "from tensorflow.keras.layers import Embedding, LSTM, Dense, Dropout, Bidirectional, Conv1D, MaxPooling1D\n",
        "from tensorflow.keras.models import Sequential\n",
        "from tensorflow.keras.optimizers import Adam\n",
        "from tensorflow.keras import regularizers\n",
        "import tensorflow.keras.utils as ku \n",
        "from sklearn.preprocessing import OneHotEncoder\n",
        "from sklearn.model_selection import train_test_split\n",
        "import codecs\n",
        "import pandas as pd \n",
        "import numpy as np\n",
        "import matplotlib.image  as mpimg\n",
        "import matplotlib.pyplot as plt\n",
        "import re\n",
        "from itertools import islice\n",
        "from sklearn.utils import shuffle\n",
        "!pip install cltk\n",
        "from cltk.stop.classical_hindi.stops import STOPS_LIST"
      ],
      "execution_count": 1,
      "outputs": [
        {
          "output_type": "stream",
          "text": [
            "TensorFlow 2.x selected.\n",
            "Requirement already satisfied: cltk in /usr/local/lib/python3.6/dist-packages (0.1.113)\n",
            "Requirement already satisfied: pyuca in /usr/local/lib/python3.6/dist-packages (from cltk) (1.2)\n",
            "Requirement already satisfied: regex in /usr/local/lib/python3.6/dist-packages (from cltk) (2019.12.20)\n",
            "Requirement already satisfied: whoosh in /usr/local/lib/python3.6/dist-packages (from cltk) (2.7.4)\n",
            "Requirement already satisfied: gitpython in /usr/local/lib/python3.6/dist-packages (from cltk) (3.1.0)\n",
            "Requirement already satisfied: python-crfsuite in /usr/local/lib/python3.6/dist-packages (from cltk) (0.9.6)\n",
            "Requirement already satisfied: nltk in /usr/local/lib/python3.6/dist-packages (from cltk) (3.2.5)\n",
            "Requirement already satisfied: pyyaml in /usr/local/lib/python3.6/dist-packages (from cltk) (3.13)\n",
            "Requirement already satisfied: gitdb<5,>=4.0.1 in /usr/local/lib/python3.6/dist-packages (from gitpython->cltk) (4.0.2)\n",
            "Requirement already satisfied: six in /tensorflow-2.1.0/python3.6 (from nltk->cltk) (1.14.0)\n",
            "Requirement already satisfied: smmap<4,>=3.0.1 in /usr/local/lib/python3.6/dist-packages (from gitdb<5,>=4.0.1->gitpython->cltk) (3.0.1)\n"
          ],
          "name": "stdout"
        }
      ]
    },
    {
      "cell_type": "markdown",
      "metadata": {
        "id": "9FHPnKRJR89l",
        "colab_type": "text"
      },
      "source": [
        "## Importing Sentences\n",
        "Sentences are being imported from the google drive and than divided  according to emotions and clubbed into a single dictionary where key is the sentence and the value is the emotion.\n",
        "Also a single string is created from all the sentences to be used afterwards for generating tokens."
      ]
    },
    {
      "cell_type": "code",
      "metadata": {
        "id": "A_k-ZiT1tl4C",
        "colab_type": "code",
        "colab": {}
      },
      "source": [
        "#emotions dictionary to iterate over each file in particular emotion\n",
        "emotions = {\"angry\":130,\n",
        "\"happy\":151,\n",
        "\"neutral\":128,\n",
        "\"sad\":104}\n",
        "#dataset to store the whole senteces as {sentence:emotion}.\n",
        "dataset = dict()\n",
        "#wholedata to store all the sentences as one string.\n",
        "wholedata = u\"\"\n",
        "filepath = \"/content/drive/My Drive/emotions\"\n",
        "#iterate over each emotion directory to import all the sentences.\n",
        "for emo in emotions:\n",
        "  nosents = emotions[emo]\n",
        "  fp = filepath+\"/\"+emo\n",
        "  for i in range(nosents):\n",
        "    fp1 = fp+\"/\"+str(i)+\".txt\"\n",
        "    f=codecs.open(fp1,encoding='utf-8')\n",
        "    tp = f.read()\n",
        "    #removing extra character from sentences.\n",
        "    tp = tp.replace(\"!\", \"\").replace(\"-\", \" \").replace(\";\", \" \").replace(\"।\", \" \").replace(\".\", \" \")\n",
        "    wholedata = wholedata+tp\n",
        "    dataset[tp]=emo\n",
        "  fp1 = fp+\"/\"+emo+\".txt\"\n",
        "  f=codecs.open(fp1,encoding='utf-8')\n",
        "  tp = f.read()\n",
        "  temp = tp.split(\"\\n\")\n",
        "  for i in temp:\n",
        "    i = i.replace(\"!\", \"\").replace(\"-\", \" \").replace(\";\", \" \").replace(\"।\", \" \").replace(\".\", \" \")\n",
        "    wholedata += i\n",
        "    dataset[i] = emo       "
      ],
      "execution_count": 0,
      "outputs": []
    },
    {
      "cell_type": "markdown",
      "metadata": {
        "id": "oHse77ZcVezV",
        "colab_type": "text"
      },
      "source": [
        "## Forming Dataset\n",
        "Convert the sentences into dataframe.\n",
        "Describing the dataset value using pandas.\n",
        "Shuffling the dataset."
      ]
    },
    {
      "cell_type": "code",
      "metadata": {
        "id": "zSNegS6aysKG",
        "colab_type": "code",
        "colab": {}
      },
      "source": [
        "#converting the dictionary of senteces into dataset\n",
        "Dataset = pd.DataFrame(dataset.items(), columns=['Data', 'Emotions'])"
      ],
      "execution_count": 0,
      "outputs": []
    },
    {
      "cell_type": "code",
      "metadata": {
        "id": "RChomfhF1BUp",
        "colab_type": "code",
        "outputId": "7dbfb4e7-0e64-4b1e-c4d0-c39b9681abd4",
        "colab": {
          "base_uri": "https://localhost:8080/",
          "height": 204
        }
      },
      "source": [
        "Dataset.head()"
      ],
      "execution_count": 4,
      "outputs": [
        {
          "output_type": "execute_result",
          "data": {
            "text/html": [
              "<div>\n",
              "<style scoped>\n",
              "    .dataframe tbody tr th:only-of-type {\n",
              "        vertical-align: middle;\n",
              "    }\n",
              "\n",
              "    .dataframe tbody tr th {\n",
              "        vertical-align: top;\n",
              "    }\n",
              "\n",
              "    .dataframe thead th {\n",
              "        text-align: right;\n",
              "    }\n",
              "</style>\n",
              "<table border=\"1\" class=\"dataframe\">\n",
              "  <thead>\n",
              "    <tr style=\"text-align: right;\">\n",
              "      <th></th>\n",
              "      <th>Data</th>\n",
              "      <th>Emotions</th>\n",
              "    </tr>\n",
              "  </thead>\n",
              "  <tbody>\n",
              "    <tr>\n",
              "      <th>0</th>\n",
              "      <td>मेरे ट्रैन का बुकिंग फेल हो रहा है बार बार</td>\n",
              "      <td>angry</td>\n",
              "    </tr>\n",
              "    <tr>\n",
              "      <th>1</th>\n",
              "      <td>मेरे फ्लाइट  का बुकिंग फेल हो रहा है बार बार</td>\n",
              "      <td>angry</td>\n",
              "    </tr>\n",
              "    <tr>\n",
              "      <th>2</th>\n",
              "      <td>बहुत ही घटिया एप्प है तुम्हारा</td>\n",
              "      <td>angry</td>\n",
              "    </tr>\n",
              "    <tr>\n",
              "      <th>3</th>\n",
              "      <td>मेरी कैब क्यों नहीं आ रही है</td>\n",
              "      <td>angry</td>\n",
              "    </tr>\n",
              "    <tr>\n",
              "      <th>4</th>\n",
              "      <td>बहुत ही बकवास वेबसाइट है तुम्हारा भाई</td>\n",
              "      <td>angry</td>\n",
              "    </tr>\n",
              "  </tbody>\n",
              "</table>\n",
              "</div>"
            ],
            "text/plain": [
              "                                            Data Emotions\n",
              "0    मेरे ट्रैन का बुकिंग फेल हो रहा है बार बार     angry\n",
              "1  मेरे फ्लाइट  का बुकिंग फेल हो रहा है बार बार     angry\n",
              "2                बहुत ही घटिया एप्प है तुम्हारा     angry\n",
              "3                  मेरी कैब क्यों नहीं आ रही है     angry\n",
              "4         बहुत ही बकवास वेबसाइट है तुम्हारा भाई     angry"
            ]
          },
          "metadata": {
            "tags": []
          },
          "execution_count": 4
        }
      ]
    },
    {
      "cell_type": "code",
      "metadata": {
        "id": "cT8ZKAB21DIe",
        "colab_type": "code",
        "outputId": "00494184-ebd9-437f-9169-8e37e9adfb9a",
        "colab": {
          "base_uri": "https://localhost:8080/",
          "height": 34
        }
      },
      "source": [
        "Dataset.shape"
      ],
      "execution_count": 5,
      "outputs": [
        {
          "output_type": "execute_result",
          "data": {
            "text/plain": [
              "(712, 2)"
            ]
          },
          "metadata": {
            "tags": []
          },
          "execution_count": 5
        }
      ]
    },
    {
      "cell_type": "code",
      "metadata": {
        "id": "J33oA7yv3O1g",
        "colab_type": "code",
        "outputId": "795d2dfa-94ff-476c-a7b7-2a144d69e32c",
        "colab": {
          "base_uri": "https://localhost:8080/",
          "height": 173
        }
      },
      "source": [
        "Dataset.describe()"
      ],
      "execution_count": 6,
      "outputs": [
        {
          "output_type": "execute_result",
          "data": {
            "text/html": [
              "<div>\n",
              "<style scoped>\n",
              "    .dataframe tbody tr th:only-of-type {\n",
              "        vertical-align: middle;\n",
              "    }\n",
              "\n",
              "    .dataframe tbody tr th {\n",
              "        vertical-align: top;\n",
              "    }\n",
              "\n",
              "    .dataframe thead th {\n",
              "        text-align: right;\n",
              "    }\n",
              "</style>\n",
              "<table border=\"1\" class=\"dataframe\">\n",
              "  <thead>\n",
              "    <tr style=\"text-align: right;\">\n",
              "      <th></th>\n",
              "      <th>Data</th>\n",
              "      <th>Emotions</th>\n",
              "    </tr>\n",
              "  </thead>\n",
              "  <tbody>\n",
              "    <tr>\n",
              "      <th>count</th>\n",
              "      <td>712</td>\n",
              "      <td>712</td>\n",
              "    </tr>\n",
              "    <tr>\n",
              "      <th>unique</th>\n",
              "      <td>712</td>\n",
              "      <td>4</td>\n",
              "    </tr>\n",
              "    <tr>\n",
              "      <th>top</th>\n",
              "      <td>मगर वो बहुत दुख भरा था \\r</td>\n",
              "      <td>neutral</td>\n",
              "    </tr>\n",
              "    <tr>\n",
              "      <th>freq</th>\n",
              "      <td>1</td>\n",
              "      <td>198</td>\n",
              "    </tr>\n",
              "  </tbody>\n",
              "</table>\n",
              "</div>"
            ],
            "text/plain": [
              "                             Data Emotions\n",
              "count                         712      712\n",
              "unique                        712        4\n",
              "top     मगर वो बहुत दुख भरा था \\r  neutral\n",
              "freq                            1      198"
            ]
          },
          "metadata": {
            "tags": []
          },
          "execution_count": 6
        }
      ]
    },
    {
      "cell_type": "code",
      "metadata": {
        "id": "I1xli8WO3UGT",
        "colab_type": "code",
        "outputId": "38ab1f15-f646-4928-f7ea-5b510afd62f2",
        "colab": {
          "base_uri": "https://localhost:8080/",
          "height": 419
        }
      },
      "source": [
        "Dataset"
      ],
      "execution_count": 7,
      "outputs": [
        {
          "output_type": "execute_result",
          "data": {
            "text/html": [
              "<div>\n",
              "<style scoped>\n",
              "    .dataframe tbody tr th:only-of-type {\n",
              "        vertical-align: middle;\n",
              "    }\n",
              "\n",
              "    .dataframe tbody tr th {\n",
              "        vertical-align: top;\n",
              "    }\n",
              "\n",
              "    .dataframe thead th {\n",
              "        text-align: right;\n",
              "    }\n",
              "</style>\n",
              "<table border=\"1\" class=\"dataframe\">\n",
              "  <thead>\n",
              "    <tr style=\"text-align: right;\">\n",
              "      <th></th>\n",
              "      <th>Data</th>\n",
              "      <th>Emotions</th>\n",
              "    </tr>\n",
              "  </thead>\n",
              "  <tbody>\n",
              "    <tr>\n",
              "      <th>0</th>\n",
              "      <td>मेरे ट्रैन का बुकिंग फेल हो रहा है बार बार</td>\n",
              "      <td>angry</td>\n",
              "    </tr>\n",
              "    <tr>\n",
              "      <th>1</th>\n",
              "      <td>मेरे फ्लाइट  का बुकिंग फेल हो रहा है बार बार</td>\n",
              "      <td>angry</td>\n",
              "    </tr>\n",
              "    <tr>\n",
              "      <th>2</th>\n",
              "      <td>बहुत ही घटिया एप्प है तुम्हारा</td>\n",
              "      <td>angry</td>\n",
              "    </tr>\n",
              "    <tr>\n",
              "      <th>3</th>\n",
              "      <td>मेरी कैब क्यों नहीं आ रही है</td>\n",
              "      <td>angry</td>\n",
              "    </tr>\n",
              "    <tr>\n",
              "      <th>4</th>\n",
              "      <td>बहुत ही बकवास वेबसाइट है तुम्हारा भाई</td>\n",
              "      <td>angry</td>\n",
              "    </tr>\n",
              "    <tr>\n",
              "      <th>...</th>\n",
              "      <td>...</td>\n",
              "      <td>...</td>\n",
              "    </tr>\n",
              "    <tr>\n",
              "      <th>707</th>\n",
              "      <td>1864 में बदरूद्दीन एक वर्ष के लिए भारत आये हाल...</td>\n",
              "      <td>sad</td>\n",
              "    </tr>\n",
              "    <tr>\n",
              "      <th>708</th>\n",
              "      <td>आरोग्य   की एक कविता इसी अनाम कुत्ते पर लिखी...</td>\n",
              "      <td>sad</td>\n",
              "    </tr>\n",
              "    <tr>\n",
              "      <th>709</th>\n",
              "      <td>एक दुखी और परेशान राष्ट्रीय कोच टेलीविजन कैमरो...</td>\n",
              "      <td>sad</td>\n",
              "    </tr>\n",
              "    <tr>\n",
              "      <th>710</th>\n",
              "      <td>यह दुख की बात है कि हम विरासत में अपने बच्चों ...</td>\n",
              "      <td>sad</td>\n",
              "    </tr>\n",
              "    <tr>\n",
              "      <th>711</th>\n",
              "      <td>अंडमान में इस काल की स्मृति मात्र से लोगों का ...</td>\n",
              "      <td>sad</td>\n",
              "    </tr>\n",
              "  </tbody>\n",
              "</table>\n",
              "<p>712 rows × 2 columns</p>\n",
              "</div>"
            ],
            "text/plain": [
              "                                                  Data Emotions\n",
              "0          मेरे ट्रैन का बुकिंग फेल हो रहा है बार बार     angry\n",
              "1        मेरे फ्लाइट  का बुकिंग फेल हो रहा है बार बार     angry\n",
              "2                      बहुत ही घटिया एप्प है तुम्हारा     angry\n",
              "3                        मेरी कैब क्यों नहीं आ रही है     angry\n",
              "4               बहुत ही बकवास वेबसाइट है तुम्हारा भाई     angry\n",
              "..                                                 ...      ...\n",
              "707  1864 में बदरूद्दीन एक वर्ष के लिए भारत आये हाल...      sad\n",
              "708    आरोग्य   की एक कविता इसी अनाम कुत्ते पर लिखी...      sad\n",
              "709  एक दुखी और परेशान राष्ट्रीय कोच टेलीविजन कैमरो...      sad\n",
              "710  यह दुख की बात है कि हम विरासत में अपने बच्चों ...      sad\n",
              "711  अंडमान में इस काल की स्मृति मात्र से लोगों का ...      sad\n",
              "\n",
              "[712 rows x 2 columns]"
            ]
          },
          "metadata": {
            "tags": []
          },
          "execution_count": 7
        }
      ]
    },
    {
      "cell_type": "code",
      "metadata": {
        "id": "fm7m0RM71j9i",
        "colab_type": "code",
        "colab": {}
      },
      "source": [
        "mymap = {'angry':0, 'sad':1, 'happy':2, 'neutral':3}\n",
        "#converting string emotions into integers.\n",
        "Dataset = Dataset.applymap(lambda s: mymap.get(s) if s in mymap else s)"
      ],
      "execution_count": 0,
      "outputs": []
    },
    {
      "cell_type": "code",
      "metadata": {
        "id": "19_EvxbX58fY",
        "colab_type": "code",
        "colab": {}
      },
      "source": [
        "#Shuffling the dataset.\n",
        "Dataset = shuffle(Dataset)"
      ],
      "execution_count": 0,
      "outputs": []
    },
    {
      "cell_type": "code",
      "metadata": {
        "id": "_m2h15hZEvmR",
        "colab_type": "code",
        "outputId": "193a6ec7-11c6-4a9a-bc1f-ff3f57ca87b8",
        "colab": {
          "base_uri": "https://localhost:8080/",
          "height": 204
        }
      },
      "source": [
        "Dataset.head()"
      ],
      "execution_count": 10,
      "outputs": [
        {
          "output_type": "execute_result",
          "data": {
            "text/html": [
              "<div>\n",
              "<style scoped>\n",
              "    .dataframe tbody tr th:only-of-type {\n",
              "        vertical-align: middle;\n",
              "    }\n",
              "\n",
              "    .dataframe tbody tr th {\n",
              "        vertical-align: top;\n",
              "    }\n",
              "\n",
              "    .dataframe thead th {\n",
              "        text-align: right;\n",
              "    }\n",
              "</style>\n",
              "<table border=\"1\" class=\"dataframe\">\n",
              "  <thead>\n",
              "    <tr style=\"text-align: right;\">\n",
              "      <th></th>\n",
              "      <th>Data</th>\n",
              "      <th>Emotions</th>\n",
              "    </tr>\n",
              "  </thead>\n",
              "  <tbody>\n",
              "    <tr>\n",
              "      <th>403</th>\n",
              "      <td>बड़ी गाड़ी बुक कर सकते हो क्या</td>\n",
              "      <td>3</td>\n",
              "    </tr>\n",
              "    <tr>\n",
              "      <th>264</th>\n",
              "      <td>कितना सही अप्प है यार</td>\n",
              "      <td>2</td>\n",
              "    </tr>\n",
              "    <tr>\n",
              "      <th>75</th>\n",
              "      <td>एकदम बेकार</td>\n",
              "      <td>0</td>\n",
              "    </tr>\n",
              "    <tr>\n",
              "      <th>7</th>\n",
              "      <td>क्या बेकार अप्प है</td>\n",
              "      <td>0</td>\n",
              "    </tr>\n",
              "    <tr>\n",
              "      <th>686</th>\n",
              "      <td>तो क्या तैंतालीस बार सूर्यास्त देखने वाले दि...</td>\n",
              "      <td>1</td>\n",
              "    </tr>\n",
              "  </tbody>\n",
              "</table>\n",
              "</div>"
            ],
            "text/plain": [
              "                                                  Data  Emotions\n",
              "403                      बड़ी गाड़ी बुक कर सकते हो क्या          3\n",
              "264                             कितना सही अप्प है यार          2\n",
              "75                                         एकदम बेकार          0\n",
              "7                                  क्या बेकार अप्प है          0\n",
              "686    तो क्या तैंतालीस बार सूर्यास्त देखने वाले दि...         1"
            ]
          },
          "metadata": {
            "tags": []
          },
          "execution_count": 10
        }
      ]
    },
    {
      "cell_type": "code",
      "metadata": {
        "id": "3Nd11vxUEynY",
        "colab_type": "code",
        "outputId": "ae6a7d6e-9962-4681-9687-b875b30dd635",
        "colab": {
          "base_uri": "https://localhost:8080/",
          "height": 297
        }
      },
      "source": [
        "Dataset.describe()"
      ],
      "execution_count": 11,
      "outputs": [
        {
          "output_type": "execute_result",
          "data": {
            "text/html": [
              "<div>\n",
              "<style scoped>\n",
              "    .dataframe tbody tr th:only-of-type {\n",
              "        vertical-align: middle;\n",
              "    }\n",
              "\n",
              "    .dataframe tbody tr th {\n",
              "        vertical-align: top;\n",
              "    }\n",
              "\n",
              "    .dataframe thead th {\n",
              "        text-align: right;\n",
              "    }\n",
              "</style>\n",
              "<table border=\"1\" class=\"dataframe\">\n",
              "  <thead>\n",
              "    <tr style=\"text-align: right;\">\n",
              "      <th></th>\n",
              "      <th>Emotions</th>\n",
              "    </tr>\n",
              "  </thead>\n",
              "  <tbody>\n",
              "    <tr>\n",
              "      <th>count</th>\n",
              "      <td>712.000000</td>\n",
              "    </tr>\n",
              "    <tr>\n",
              "      <th>mean</th>\n",
              "      <td>1.588483</td>\n",
              "    </tr>\n",
              "    <tr>\n",
              "      <th>std</th>\n",
              "      <td>1.131586</td>\n",
              "    </tr>\n",
              "    <tr>\n",
              "      <th>min</th>\n",
              "      <td>0.000000</td>\n",
              "    </tr>\n",
              "    <tr>\n",
              "      <th>25%</th>\n",
              "      <td>1.000000</td>\n",
              "    </tr>\n",
              "    <tr>\n",
              "      <th>50%</th>\n",
              "      <td>2.000000</td>\n",
              "    </tr>\n",
              "    <tr>\n",
              "      <th>75%</th>\n",
              "      <td>3.000000</td>\n",
              "    </tr>\n",
              "    <tr>\n",
              "      <th>max</th>\n",
              "      <td>3.000000</td>\n",
              "    </tr>\n",
              "  </tbody>\n",
              "</table>\n",
              "</div>"
            ],
            "text/plain": [
              "         Emotions\n",
              "count  712.000000\n",
              "mean     1.588483\n",
              "std      1.131586\n",
              "min      0.000000\n",
              "25%      1.000000\n",
              "50%      2.000000\n",
              "75%      3.000000\n",
              "max      3.000000"
            ]
          },
          "metadata": {
            "tags": []
          },
          "execution_count": 11
        }
      ]
    },
    {
      "cell_type": "markdown",
      "metadata": {
        "id": "MN2WeOUTZoxU",
        "colab_type": "text"
      },
      "source": [
        "## Token Creation\n",
        "Create tokens from all the sentences.\n",
        "Displaying frequency for all the tokens.\n",
        "Displaying frequency for all the tokens which are not part of the STOPWORDLIST of CNLTK library.\n",
        " "
      ]
    },
    {
      "cell_type": "code",
      "metadata": {
        "id": "s4ghimJoPdSU",
        "colab_type": "code",
        "colab": {}
      },
      "source": [
        "sentences = wholedata.split(u\" \")"
      ],
      "execution_count": 0,
      "outputs": []
    },
    {
      "cell_type": "code",
      "metadata": {
        "id": "-PjKLi2RQNGR",
        "colab_type": "code",
        "colab": {}
      },
      "source": [
        "#List of tokens\n",
        "tokens=[]\n",
        "for each in sentences:\n",
        "  word_list=each.split(' ')\n",
        "  tokens=tokens+word_list\n",
        "tokens = list(map(str.strip, tokens))\n",
        "tokens = list(filter(None, tokens))"
      ],
      "execution_count": 0,
      "outputs": []
    },
    {
      "cell_type": "code",
      "metadata": {
        "id": "2DVwFfpnTFq2",
        "colab_type": "code",
        "colab": {}
      },
      "source": [
        "#Frequency List\n",
        "freq=dict()\n",
        "for each in tokens:\n",
        "\t\t\tfreq[each]=tokens.count(each)  "
      ],
      "execution_count": 0,
      "outputs": []
    },
    {
      "cell_type": "code",
      "metadata": {
        "id": "ydSFASTAUeMO",
        "colab_type": "code",
        "outputId": "3cd3feea-6c10-4f57-f9ce-dc03de4b0030",
        "colab": {
          "base_uri": "https://localhost:8080/",
          "height": 34
        }
      },
      "source": [
        "#Displaying 10 most frequency tokens with their frequency.\n",
        "def take(n, iterable):\n",
        "    \"Return first n items of the iterable as a list\"\n",
        "    return list(islice(iterable, n))\n",
        "freq={k: v for k, v in sorted(freq.items(), key=lambda item: item[1],reverse=True)}\n",
        "freq10 = take(10, freq.items())\n",
        "print(freq10)"
      ],
      "execution_count": 15,
      "outputs": [
        {
          "output_type": "stream",
          "text": [
            "[('है', 200), ('हो', 92), ('नहीं', 86), ('से', 81), ('क्या', 77), ('की', 77), ('में', 75), ('और', 73), ('के', 70), ('बहुत', 65)]\n"
          ],
          "name": "stdout"
        }
      ]
    },
    {
      "cell_type": "code",
      "metadata": {
        "id": "tbJ4DXwPc2vS",
        "colab_type": "code",
        "outputId": "b6a85598-5e2b-466d-9981-c95624f678b6",
        "colab": {
          "base_uri": "https://localhost:8080/",
          "height": 34
        }
      },
      "source": [
        "print(len(tokens))"
      ],
      "execution_count": 16,
      "outputs": [
        {
          "output_type": "stream",
          "text": [
            "5343\n"
          ],
          "name": "stdout"
        }
      ]
    },
    {
      "cell_type": "code",
      "metadata": {
        "id": "Lda6VKoniN4A",
        "colab_type": "code",
        "colab": {}
      },
      "source": [
        "#Removing tokens which are part of STOPLIST\n",
        "remtokens = []\n",
        "for i in tokens:\n",
        "  if i not in STOPS_LIST:\n",
        "    remtokens.append(i)"
      ],
      "execution_count": 0,
      "outputs": []
    },
    {
      "cell_type": "code",
      "metadata": {
        "id": "fKbuEgGMiiLo",
        "colab_type": "code",
        "outputId": "96afcc73-200f-4e82-c853-acd5c3850155",
        "colab": {
          "base_uri": "https://localhost:8080/",
          "height": 34
        }
      },
      "source": [
        "print(len(remtokens))"
      ],
      "execution_count": 18,
      "outputs": [
        {
          "output_type": "stream",
          "text": [
            "3522\n"
          ],
          "name": "stdout"
        }
      ]
    },
    {
      "cell_type": "code",
      "metadata": {
        "id": "BlPENEvDi5Uc",
        "colab_type": "code",
        "colab": {}
      },
      "source": [
        "#Token frequency list without stopwords\n",
        "remfreq=dict()\n",
        "for each in remtokens:\n",
        "\t\t\tremfreq[each]=remtokens.count(each)"
      ],
      "execution_count": 0,
      "outputs": []
    },
    {
      "cell_type": "code",
      "metadata": {
        "id": "EvPIdz24jAte",
        "colab_type": "code",
        "outputId": "aac71b46-65ee-4cc8-9fa3-966f5d93f425",
        "colab": {
          "base_uri": "https://localhost:8080/",
          "height": 54
        }
      },
      "source": [
        "#Displaying 10 most frequency tokens without stopwords with their frequency.\n",
        "def take(n, iterable):\n",
        "    \"Return first n items of the iterable as a list\"\n",
        "    return list(islice(iterable, n))\n",
        "remfreq={k: v for k, v in sorted(remfreq.items(), key=lambda item: item[1],reverse=True)}\n",
        "freq10 = take(10, remfreq.items())\n",
        "print(freq10)"
      ],
      "execution_count": 20,
      "outputs": [
        {
          "output_type": "stream",
          "text": [
            "[('बहुत', 65), ('कर', 57), ('यार', 43), ('गया', 31), ('मैं', 31), ('बात', 31), ('होटल', 30), ('खुश', 29), ('मुझे', 28), ('अच्छा', 28)]\n"
          ],
          "name": "stdout"
        }
      ]
    },
    {
      "cell_type": "markdown",
      "metadata": {
        "id": "7P0wQN7Ydz4_",
        "colab_type": "text"
      },
      "source": [
        "## One Hot Encoding of Dataset\n",
        "Splitting the dataset into training and testing dataset.\n",
        "80 % training data.\n",
        "20 % test data.\n",
        "Converting datasets into one hot encoding of their respective tokens without stopwords.\n"
      ]
    },
    {
      "cell_type": "code",
      "metadata": {
        "id": "MgAaZQibPaEu",
        "colab_type": "code",
        "colab": {}
      },
      "source": [
        "#creating unique tokens to convert the sentences dataset into one hot encoding of tokens.\n",
        "newtokens = list(set(remtokens))"
      ],
      "execution_count": 0,
      "outputs": []
    },
    {
      "cell_type": "code",
      "metadata": {
        "id": "jot1LtQQLhot",
        "colab_type": "code",
        "outputId": "120934e0-cd69-4e29-f52d-e2d4672677cb",
        "colab": {
          "base_uri": "https://localhost:8080/",
          "height": 34
        }
      },
      "source": [
        "print(len(newtokens))"
      ],
      "execution_count": 22,
      "outputs": [
        {
          "output_type": "stream",
          "text": [
            "1464\n"
          ],
          "name": "stdout"
        }
      ]
    },
    {
      "cell_type": "code",
      "metadata": {
        "id": "ca-DPXz1AIpP",
        "colab_type": "code",
        "colab": {}
      },
      "source": [
        "traindf, testdf = train_test_split(Dataset, test_size=0.2)"
      ],
      "execution_count": 0,
      "outputs": []
    },
    {
      "cell_type": "code",
      "metadata": {
        "id": "urUKH0HJKwnf",
        "colab_type": "code",
        "colab": {}
      },
      "source": [
        "#datatokens fuction to convert the sentences into one hot encoding.\n",
        "def datatokens(Dset):\n",
        "  sents = Dset['Data'].tolist()\n",
        "  inds = list(Dset.index.values)\n",
        "  totalist = []\n",
        "  maxcnt = 0\n",
        "  remdataind = []\n",
        "  for l in range(len(sents)):\n",
        "    word_list=sents[l].split(' ')\n",
        "    tplist = []\n",
        "    cnt = 0\n",
        "    for to in range(len(newtokens)):\n",
        "      if newtokens[to] in word_list:\n",
        "        onehot = [0]*(len(newtokens))\n",
        "        onehot[to] = 1\n",
        "        tplist.append(onehot)\n",
        "        cnt+=1\n",
        "    if len(tplist)!=0:\n",
        "      #for each sentence create data of equal size by appending dummy one hot vectors.\n",
        "      #max size is 20\n",
        "      while cnt<20:\n",
        "        onehot = [0]*(len(newtokens))\n",
        "        tplist.append(onehot)\n",
        "        cnt+=1\n",
        "      # temp = np.array(tplist)\n",
        "      # print(temp.shape)\n",
        "      totalist.append(tplist)\n",
        "    else:\n",
        "      remdataind.append(inds[l])\n",
        "  #dropping those data which do not contain any tokens without stopwordlist    \n",
        "  for ind in remdataind:\n",
        "    Dset = Dset.drop(ind)\n",
        "  Y_ = Dset[['Emotions']]\n",
        "  encoder = OneHotEncoder(sparse = False)\n",
        "  YOneHot = encoder.fit_transform(Y_)    \n",
        "  return totalist,YOneHot    "
      ],
      "execution_count": 0,
      "outputs": []
    },
    {
      "cell_type": "code",
      "metadata": {
        "id": "Gqf1gFAEBKKU",
        "colab_type": "code",
        "colab": {}
      },
      "source": [
        "traindata,trainlabel = datatokens(traindf)\n",
        "testdata,testlabel = datatokens(testdf)"
      ],
      "execution_count": 0,
      "outputs": []
    },
    {
      "cell_type": "code",
      "metadata": {
        "id": "tQccCmdqKzFt",
        "colab_type": "code",
        "colab": {}
      },
      "source": [
        "#converting all the lists into tensors to feed into the model.\n",
        "X_train = tf.convert_to_tensor(traindata)\n",
        "Y_train = tf.convert_to_tensor(trainlabel)\n",
        "X_test = tf.convert_to_tensor(testdata)\n",
        "Y_test = tf.convert_to_tensor(testlabel)"
      ],
      "execution_count": 0,
      "outputs": []
    },
    {
      "cell_type": "code",
      "metadata": {
        "id": "ke0bvkZhTmvf",
        "colab_type": "code",
        "outputId": "ab401b0b-4773-4865-bdf7-5b05e70c4c96",
        "colab": {
          "base_uri": "https://localhost:8080/",
          "height": 85
        }
      },
      "source": [
        "print(\"Train Features: \",X_train.shape)\n",
        "print(\"Test Features: \",X_test.shape)\n",
        "print(\"Train Label: \",Y_train.shape)\n",
        "print(\"Test Label: \",Y_test.shape)"
      ],
      "execution_count": 27,
      "outputs": [
        {
          "output_type": "stream",
          "text": [
            "Train Features:  (567, 20, 1464)\n",
            "Test Features:  (143, 20, 1464)\n",
            "Train Label:  (567, 4)\n",
            "Test Label:  (143, 4)\n"
          ],
          "name": "stdout"
        }
      ]
    },
    {
      "cell_type": "markdown",
      "metadata": {
        "id": "aH5fQ2EtYALL",
        "colab_type": "text"
      },
      "source": [
        "# Model Building , Training and Testing "
      ]
    },
    {
      "cell_type": "markdown",
      "metadata": {
        "id": "rbaOuZQviAT9",
        "colab_type": "text"
      },
      "source": [
        "## Building Model Architecture\n",
        "Model basically is made of Bi-LSTM for NLP processing , Fully connected layer with ReLU as activation function and softmax as output layer.\n",
        "Loss Function used is categorical loss as we have to classify into 4 categories.\n",
        "Accuracy is used as an metric to measure the performance of the model.\n",
        "Adam Optimizer is used as optimizer for gradient calculations."
      ]
    },
    {
      "cell_type": "code",
      "metadata": {
        "id": "mm0ZlfZ0YnPa",
        "colab_type": "code",
        "outputId": "7747209f-167d-4164-f8ea-b6e5072d6303",
        "colab": {
          "base_uri": "https://localhost:8080/",
          "height": 411
        }
      },
      "source": [
        "model = Sequential()\n",
        "model.add(Bidirectional(LSTM(90, dropout=0.7),input_shape=(20,1464)))\n",
        "model.add(Dense(64, activation='relu')),\n",
        "model.add(Dropout(0.3)),\n",
        "model.add(Dense(len(emotions), activation='softmax'))\n",
        "model.compile(loss='categorical_crossentropy', optimizer='adam', metrics=['accuracy'])\n",
        "#Display the architecture with number of parameters of the model.\n",
        "print(model.summary())"
      ],
      "execution_count": 28,
      "outputs": [
        {
          "output_type": "stream",
          "text": [
            "WARNING:tensorflow:Large dropout rate: 0.7 (>0.5). In TensorFlow 2.x, dropout() uses dropout rate instead of keep_prob. Please ensure that this is intended.\n",
            "WARNING:tensorflow:Large dropout rate: 0.7 (>0.5). In TensorFlow 2.x, dropout() uses dropout rate instead of keep_prob. Please ensure that this is intended.\n",
            "WARNING:tensorflow:Large dropout rate: 0.7 (>0.5). In TensorFlow 2.x, dropout() uses dropout rate instead of keep_prob. Please ensure that this is intended.\n",
            "WARNING:tensorflow:Large dropout rate: 0.7 (>0.5). In TensorFlow 2.x, dropout() uses dropout rate instead of keep_prob. Please ensure that this is intended.\n",
            "WARNING:tensorflow:Large dropout rate: 0.7 (>0.5). In TensorFlow 2.x, dropout() uses dropout rate instead of keep_prob. Please ensure that this is intended.\n",
            "Model: \"sequential\"\n",
            "_________________________________________________________________\n",
            "Layer (type)                 Output Shape              Param #   \n",
            "=================================================================\n",
            "bidirectional (Bidirectional (None, 180)               1119600   \n",
            "_________________________________________________________________\n",
            "dense (Dense)                (None, 64)                11584     \n",
            "_________________________________________________________________\n",
            "dropout (Dropout)            (None, 64)                0         \n",
            "_________________________________________________________________\n",
            "dense_1 (Dense)              (None, 4)                 260       \n",
            "=================================================================\n",
            "Total params: 1,131,444\n",
            "Trainable params: 1,131,444\n",
            "Non-trainable params: 0\n",
            "_________________________________________________________________\n",
            "None\n"
          ],
          "name": "stdout"
        }
      ]
    },
    {
      "cell_type": "markdown",
      "metadata": {
        "id": "meypQ5-pk7px",
        "colab_type": "text"
      },
      "source": [
        "## Training the Model\n",
        "Training the model for 150 epochs and batch size 64 with validation set of 30% of original the training set.  "
      ]
    },
    {
      "cell_type": "code",
      "metadata": {
        "id": "Kmb_Ro3EY-xD",
        "colab_type": "code",
        "outputId": "c7ac2baf-af1f-4e7d-b1de-20413a446b92",
        "colab": {
          "base_uri": "https://localhost:8080/",
          "height": 1000
        }
      },
      "source": [
        "history = model.fit(x=X_train,y=Y_train,epochs=150, validation_split=0.3,batch_size=64, verbose=1)"
      ],
      "execution_count": 29,
      "outputs": [
        {
          "output_type": "stream",
          "text": [
            "Train on 396 samples, validate on 171 samples\n",
            "Epoch 1/150\n",
            "396/396 [==============================] - 5s 12ms/sample - loss: 1.3873 - accuracy: 0.2525 - val_loss: 1.3876 - val_accuracy: 0.2339\n",
            "Epoch 2/150\n",
            "396/396 [==============================] - 0s 331us/sample - loss: 1.3773 - accuracy: 0.3384 - val_loss: 1.3870 - val_accuracy: 0.3216\n",
            "Epoch 3/150\n",
            "396/396 [==============================] - 0s 319us/sample - loss: 1.3710 - accuracy: 0.3182 - val_loss: 1.3907 - val_accuracy: 0.3216\n",
            "Epoch 4/150\n",
            "396/396 [==============================] - 0s 291us/sample - loss: 1.3642 - accuracy: 0.3384 - val_loss: 1.3953 - val_accuracy: 0.2690\n",
            "Epoch 5/150\n",
            "396/396 [==============================] - 0s 308us/sample - loss: 1.3529 - accuracy: 0.3586 - val_loss: 1.3944 - val_accuracy: 0.2573\n",
            "Epoch 6/150\n",
            "396/396 [==============================] - 0s 272us/sample - loss: 1.3180 - accuracy: 0.4091 - val_loss: 1.4132 - val_accuracy: 0.2924\n",
            "Epoch 7/150\n",
            "396/396 [==============================] - 0s 268us/sample - loss: 1.3029 - accuracy: 0.4116 - val_loss: 1.3483 - val_accuracy: 0.3743\n",
            "Epoch 8/150\n",
            "396/396 [==============================] - 0s 266us/sample - loss: 1.1944 - accuracy: 0.5000 - val_loss: 1.3064 - val_accuracy: 0.3626\n",
            "Epoch 9/150\n",
            "396/396 [==============================] - 0s 251us/sample - loss: 1.1723 - accuracy: 0.4924 - val_loss: 1.3145 - val_accuracy: 0.4561\n",
            "Epoch 10/150\n",
            "396/396 [==============================] - 0s 260us/sample - loss: 1.1018 - accuracy: 0.5227 - val_loss: 1.2241 - val_accuracy: 0.4971\n",
            "Epoch 11/150\n",
            "396/396 [==============================] - 0s 250us/sample - loss: 1.0257 - accuracy: 0.5732 - val_loss: 1.1841 - val_accuracy: 0.4795\n",
            "Epoch 12/150\n",
            "396/396 [==============================] - 0s 241us/sample - loss: 0.9037 - accuracy: 0.6111 - val_loss: 1.2528 - val_accuracy: 0.4678\n",
            "Epoch 13/150\n",
            "396/396 [==============================] - 0s 271us/sample - loss: 0.8815 - accuracy: 0.6136 - val_loss: 1.3112 - val_accuracy: 0.4795\n",
            "Epoch 14/150\n",
            "396/396 [==============================] - 0s 277us/sample - loss: 0.9555 - accuracy: 0.6086 - val_loss: 1.2161 - val_accuracy: 0.5088\n",
            "Epoch 15/150\n",
            "396/396 [==============================] - 0s 265us/sample - loss: 0.9228 - accuracy: 0.6263 - val_loss: 1.1590 - val_accuracy: 0.5146\n",
            "Epoch 16/150\n",
            "396/396 [==============================] - 0s 264us/sample - loss: 0.8319 - accuracy: 0.6944 - val_loss: 1.1592 - val_accuracy: 0.5263\n",
            "Epoch 17/150\n",
            "396/396 [==============================] - 0s 276us/sample - loss: 0.7554 - accuracy: 0.6944 - val_loss: 1.1888 - val_accuracy: 0.5263\n",
            "Epoch 18/150\n",
            "396/396 [==============================] - 0s 293us/sample - loss: 0.7557 - accuracy: 0.6717 - val_loss: 1.1751 - val_accuracy: 0.4971\n",
            "Epoch 19/150\n",
            "396/396 [==============================] - 0s 264us/sample - loss: 0.7225 - accuracy: 0.7197 - val_loss: 1.2120 - val_accuracy: 0.4678\n",
            "Epoch 20/150\n",
            "396/396 [==============================] - 0s 263us/sample - loss: 0.6713 - accuracy: 0.7222 - val_loss: 1.2526 - val_accuracy: 0.4912\n",
            "Epoch 21/150\n",
            "396/396 [==============================] - 0s 268us/sample - loss: 0.6134 - accuracy: 0.7854 - val_loss: 1.1683 - val_accuracy: 0.5029\n",
            "Epoch 22/150\n",
            "396/396 [==============================] - 0s 275us/sample - loss: 0.6363 - accuracy: 0.7475 - val_loss: 1.1953 - val_accuracy: 0.4971\n",
            "Epoch 23/150\n",
            "396/396 [==============================] - 0s 262us/sample - loss: 0.5760 - accuracy: 0.7854 - val_loss: 1.2859 - val_accuracy: 0.5029\n",
            "Epoch 24/150\n",
            "396/396 [==============================] - 0s 286us/sample - loss: 0.5783 - accuracy: 0.7778 - val_loss: 1.2549 - val_accuracy: 0.5088\n",
            "Epoch 25/150\n",
            "396/396 [==============================] - 0s 277us/sample - loss: 0.5863 - accuracy: 0.7677 - val_loss: 1.2043 - val_accuracy: 0.4737\n",
            "Epoch 26/150\n",
            "396/396 [==============================] - 0s 270us/sample - loss: 0.5720 - accuracy: 0.7955 - val_loss: 1.2177 - val_accuracy: 0.4971\n",
            "Epoch 27/150\n",
            "396/396 [==============================] - 0s 262us/sample - loss: 0.5973 - accuracy: 0.7879 - val_loss: 1.1443 - val_accuracy: 0.5146\n",
            "Epoch 28/150\n",
            "396/396 [==============================] - 0s 269us/sample - loss: 0.6086 - accuracy: 0.7626 - val_loss: 1.2197 - val_accuracy: 0.4971\n",
            "Epoch 29/150\n",
            "396/396 [==============================] - 0s 277us/sample - loss: 0.5117 - accuracy: 0.8005 - val_loss: 1.1619 - val_accuracy: 0.5263\n",
            "Epoch 30/150\n",
            "396/396 [==============================] - 0s 254us/sample - loss: 0.5447 - accuracy: 0.7980 - val_loss: 1.1688 - val_accuracy: 0.5322\n",
            "Epoch 31/150\n",
            "396/396 [==============================] - 0s 236us/sample - loss: 0.4588 - accuracy: 0.8359 - val_loss: 1.2388 - val_accuracy: 0.5205\n",
            "Epoch 32/150\n",
            "396/396 [==============================] - 0s 262us/sample - loss: 0.4731 - accuracy: 0.8182 - val_loss: 1.4600 - val_accuracy: 0.4678\n",
            "Epoch 33/150\n",
            "396/396 [==============================] - 0s 307us/sample - loss: 0.5349 - accuracy: 0.7904 - val_loss: 1.2444 - val_accuracy: 0.5029\n",
            "Epoch 34/150\n",
            "396/396 [==============================] - 0s 252us/sample - loss: 0.4965 - accuracy: 0.8232 - val_loss: 1.1815 - val_accuracy: 0.4912\n",
            "Epoch 35/150\n",
            "396/396 [==============================] - 0s 251us/sample - loss: 0.4147 - accuracy: 0.8232 - val_loss: 1.2587 - val_accuracy: 0.5556\n",
            "Epoch 36/150\n",
            "396/396 [==============================] - 0s 249us/sample - loss: 0.4513 - accuracy: 0.8207 - val_loss: 1.2574 - val_accuracy: 0.4854\n",
            "Epoch 37/150\n",
            "396/396 [==============================] - 0s 260us/sample - loss: 0.5314 - accuracy: 0.7778 - val_loss: 1.1811 - val_accuracy: 0.5614\n",
            "Epoch 38/150\n",
            "396/396 [==============================] - 0s 243us/sample - loss: 0.5021 - accuracy: 0.7778 - val_loss: 1.1775 - val_accuracy: 0.4854\n",
            "Epoch 39/150\n",
            "396/396 [==============================] - 0s 268us/sample - loss: 0.4459 - accuracy: 0.8056 - val_loss: 1.2134 - val_accuracy: 0.5497\n",
            "Epoch 40/150\n",
            "396/396 [==============================] - 0s 246us/sample - loss: 0.4545 - accuracy: 0.8005 - val_loss: 1.2472 - val_accuracy: 0.5205\n",
            "Epoch 41/150\n",
            "396/396 [==============================] - 0s 286us/sample - loss: 0.3801 - accuracy: 0.8485 - val_loss: 1.2839 - val_accuracy: 0.4737\n",
            "Epoch 42/150\n",
            "396/396 [==============================] - 0s 252us/sample - loss: 0.4497 - accuracy: 0.8384 - val_loss: 1.2569 - val_accuracy: 0.5439\n",
            "Epoch 43/150\n",
            "396/396 [==============================] - 0s 287us/sample - loss: 0.4998 - accuracy: 0.7929 - val_loss: 1.2470 - val_accuracy: 0.5088\n",
            "Epoch 44/150\n",
            "396/396 [==============================] - 0s 255us/sample - loss: 0.4517 - accuracy: 0.8308 - val_loss: 1.2099 - val_accuracy: 0.4854\n",
            "Epoch 45/150\n",
            "396/396 [==============================] - 0s 279us/sample - loss: 0.4515 - accuracy: 0.8207 - val_loss: 1.2608 - val_accuracy: 0.5029\n",
            "Epoch 46/150\n",
            "396/396 [==============================] - 0s 266us/sample - loss: 0.4470 - accuracy: 0.8030 - val_loss: 1.1857 - val_accuracy: 0.5088\n",
            "Epoch 47/150\n",
            "396/396 [==============================] - 0s 265us/sample - loss: 0.3952 - accuracy: 0.8359 - val_loss: 1.2111 - val_accuracy: 0.5380\n",
            "Epoch 48/150\n",
            "396/396 [==============================] - 0s 267us/sample - loss: 0.4113 - accuracy: 0.8258 - val_loss: 1.2647 - val_accuracy: 0.5088\n",
            "Epoch 49/150\n",
            "396/396 [==============================] - 0s 264us/sample - loss: 0.4079 - accuracy: 0.8283 - val_loss: 1.3559 - val_accuracy: 0.5088\n",
            "Epoch 50/150\n",
            "396/396 [==============================] - 0s 248us/sample - loss: 0.4836 - accuracy: 0.7929 - val_loss: 1.2902 - val_accuracy: 0.4971\n",
            "Epoch 51/150\n",
            "396/396 [==============================] - 0s 229us/sample - loss: 0.4815 - accuracy: 0.7828 - val_loss: 1.2707 - val_accuracy: 0.5146\n",
            "Epoch 52/150\n",
            "396/396 [==============================] - 0s 260us/sample - loss: 0.4210 - accuracy: 0.8333 - val_loss: 1.2139 - val_accuracy: 0.4912\n",
            "Epoch 53/150\n",
            "396/396 [==============================] - 0s 288us/sample - loss: 0.4622 - accuracy: 0.8005 - val_loss: 1.2448 - val_accuracy: 0.5088\n",
            "Epoch 54/150\n",
            "396/396 [==============================] - 0s 259us/sample - loss: 0.4317 - accuracy: 0.8258 - val_loss: 1.2365 - val_accuracy: 0.5205\n",
            "Epoch 55/150\n",
            "396/396 [==============================] - 0s 267us/sample - loss: 0.4266 - accuracy: 0.8359 - val_loss: 1.2759 - val_accuracy: 0.4971\n",
            "Epoch 56/150\n",
            "396/396 [==============================] - 0s 283us/sample - loss: 0.3696 - accuracy: 0.8460 - val_loss: 1.3318 - val_accuracy: 0.5322\n",
            "Epoch 57/150\n",
            "396/396 [==============================] - 0s 271us/sample - loss: 0.4741 - accuracy: 0.8081 - val_loss: 1.2369 - val_accuracy: 0.5146\n",
            "Epoch 58/150\n",
            "396/396 [==============================] - 0s 263us/sample - loss: 0.3808 - accuracy: 0.8561 - val_loss: 1.2466 - val_accuracy: 0.4912\n",
            "Epoch 59/150\n",
            "396/396 [==============================] - 0s 260us/sample - loss: 0.5050 - accuracy: 0.7753 - val_loss: 1.2498 - val_accuracy: 0.5029\n",
            "Epoch 60/150\n",
            "396/396 [==============================] - 0s 273us/sample - loss: 0.3901 - accuracy: 0.8485 - val_loss: 1.2366 - val_accuracy: 0.5322\n",
            "Epoch 61/150\n",
            "396/396 [==============================] - 0s 250us/sample - loss: 0.3916 - accuracy: 0.8359 - val_loss: 1.2814 - val_accuracy: 0.5205\n",
            "Epoch 62/150\n",
            "396/396 [==============================] - 0s 259us/sample - loss: 0.4379 - accuracy: 0.7929 - val_loss: 1.4156 - val_accuracy: 0.5205\n",
            "Epoch 63/150\n",
            "396/396 [==============================] - 0s 277us/sample - loss: 0.4565 - accuracy: 0.8157 - val_loss: 1.3586 - val_accuracy: 0.4971\n",
            "Epoch 64/150\n",
            "396/396 [==============================] - 0s 294us/sample - loss: 0.4411 - accuracy: 0.7980 - val_loss: 1.2628 - val_accuracy: 0.5029\n",
            "Epoch 65/150\n",
            "396/396 [==============================] - 0s 269us/sample - loss: 0.3887 - accuracy: 0.8409 - val_loss: 1.2647 - val_accuracy: 0.5322\n",
            "Epoch 66/150\n",
            "396/396 [==============================] - 0s 295us/sample - loss: 0.4314 - accuracy: 0.8081 - val_loss: 1.2767 - val_accuracy: 0.5088\n",
            "Epoch 67/150\n",
            "396/396 [==============================] - 0s 303us/sample - loss: 0.4224 - accuracy: 0.8258 - val_loss: 1.3256 - val_accuracy: 0.4912\n",
            "Epoch 68/150\n",
            "396/396 [==============================] - 0s 309us/sample - loss: 0.3824 - accuracy: 0.8359 - val_loss: 1.3434 - val_accuracy: 0.4854\n",
            "Epoch 69/150\n",
            "396/396 [==============================] - 0s 305us/sample - loss: 0.3572 - accuracy: 0.8485 - val_loss: 1.3166 - val_accuracy: 0.4795\n",
            "Epoch 70/150\n",
            "396/396 [==============================] - 0s 299us/sample - loss: 0.3948 - accuracy: 0.8535 - val_loss: 1.3314 - val_accuracy: 0.5088\n",
            "Epoch 71/150\n",
            "396/396 [==============================] - 0s 303us/sample - loss: 0.3946 - accuracy: 0.8384 - val_loss: 1.2642 - val_accuracy: 0.5146\n",
            "Epoch 72/150\n",
            "396/396 [==============================] - 0s 267us/sample - loss: 0.3748 - accuracy: 0.8434 - val_loss: 1.2327 - val_accuracy: 0.5380\n",
            "Epoch 73/150\n",
            "396/396 [==============================] - 0s 279us/sample - loss: 0.3598 - accuracy: 0.8460 - val_loss: 1.2563 - val_accuracy: 0.5146\n",
            "Epoch 74/150\n",
            "396/396 [==============================] - 0s 270us/sample - loss: 0.3607 - accuracy: 0.8434 - val_loss: 1.3147 - val_accuracy: 0.5088\n",
            "Epoch 75/150\n",
            "396/396 [==============================] - 0s 284us/sample - loss: 0.3692 - accuracy: 0.8283 - val_loss: 1.3297 - val_accuracy: 0.4620\n",
            "Epoch 76/150\n",
            "396/396 [==============================] - 0s 266us/sample - loss: 0.3620 - accuracy: 0.8359 - val_loss: 1.3003 - val_accuracy: 0.4678\n",
            "Epoch 77/150\n",
            "396/396 [==============================] - 0s 268us/sample - loss: 0.3472 - accuracy: 0.8636 - val_loss: 1.3028 - val_accuracy: 0.5088\n",
            "Epoch 78/150\n",
            "396/396 [==============================] - 0s 263us/sample - loss: 0.4070 - accuracy: 0.8283 - val_loss: 1.3662 - val_accuracy: 0.5263\n",
            "Epoch 79/150\n",
            "396/396 [==============================] - 0s 244us/sample - loss: 0.3410 - accuracy: 0.8485 - val_loss: 1.3754 - val_accuracy: 0.5673\n",
            "Epoch 80/150\n",
            "396/396 [==============================] - 0s 269us/sample - loss: 0.4611 - accuracy: 0.7980 - val_loss: 1.2791 - val_accuracy: 0.5088\n",
            "Epoch 81/150\n",
            "396/396 [==============================] - 0s 271us/sample - loss: 0.3033 - accuracy: 0.8662 - val_loss: 1.2364 - val_accuracy: 0.5029\n",
            "Epoch 82/150\n",
            "396/396 [==============================] - 0s 271us/sample - loss: 0.3531 - accuracy: 0.8333 - val_loss: 1.2474 - val_accuracy: 0.5439\n",
            "Epoch 83/150\n",
            "396/396 [==============================] - 0s 271us/sample - loss: 0.4334 - accuracy: 0.8157 - val_loss: 1.2619 - val_accuracy: 0.5556\n",
            "Epoch 84/150\n",
            "396/396 [==============================] - 0s 281us/sample - loss: 0.3824 - accuracy: 0.8182 - val_loss: 1.2473 - val_accuracy: 0.5497\n",
            "Epoch 85/150\n",
            "396/396 [==============================] - 0s 308us/sample - loss: 0.3629 - accuracy: 0.8258 - val_loss: 1.2575 - val_accuracy: 0.5380\n",
            "Epoch 86/150\n",
            "396/396 [==============================] - 0s 311us/sample - loss: 0.3543 - accuracy: 0.8460 - val_loss: 1.3075 - val_accuracy: 0.5205\n",
            "Epoch 87/150\n",
            "396/396 [==============================] - 0s 318us/sample - loss: 0.3656 - accuracy: 0.8510 - val_loss: 1.3706 - val_accuracy: 0.5088\n",
            "Epoch 88/150\n",
            "396/396 [==============================] - 0s 246us/sample - loss: 0.3774 - accuracy: 0.8535 - val_loss: 1.4019 - val_accuracy: 0.5380\n",
            "Epoch 89/150\n",
            "396/396 [==============================] - 0s 247us/sample - loss: 0.3453 - accuracy: 0.8359 - val_loss: 1.2670 - val_accuracy: 0.5322\n",
            "Epoch 90/150\n",
            "396/396 [==============================] - 0s 274us/sample - loss: 0.3477 - accuracy: 0.8510 - val_loss: 1.2629 - val_accuracy: 0.5205\n",
            "Epoch 91/150\n",
            "396/396 [==============================] - 0s 270us/sample - loss: 0.3856 - accuracy: 0.8056 - val_loss: 1.2993 - val_accuracy: 0.5088\n",
            "Epoch 92/150\n",
            "396/396 [==============================] - 0s 272us/sample - loss: 0.3059 - accuracy: 0.8611 - val_loss: 1.4178 - val_accuracy: 0.5088\n",
            "Epoch 93/150\n",
            "396/396 [==============================] - 0s 263us/sample - loss: 0.3989 - accuracy: 0.8283 - val_loss: 1.3790 - val_accuracy: 0.5029\n",
            "Epoch 94/150\n",
            "396/396 [==============================] - 0s 281us/sample - loss: 0.3203 - accuracy: 0.8712 - val_loss: 1.4440 - val_accuracy: 0.4678\n",
            "Epoch 95/150\n",
            "396/396 [==============================] - 0s 268us/sample - loss: 0.3621 - accuracy: 0.8359 - val_loss: 1.3115 - val_accuracy: 0.5088\n",
            "Epoch 96/150\n",
            "396/396 [==============================] - 0s 268us/sample - loss: 0.3627 - accuracy: 0.8384 - val_loss: 1.3379 - val_accuracy: 0.5088\n",
            "Epoch 97/150\n",
            "396/396 [==============================] - 0s 268us/sample - loss: 0.3501 - accuracy: 0.8460 - val_loss: 1.3638 - val_accuracy: 0.4854\n",
            "Epoch 98/150\n",
            "396/396 [==============================] - 0s 261us/sample - loss: 0.3699 - accuracy: 0.8106 - val_loss: 1.2939 - val_accuracy: 0.5380\n",
            "Epoch 99/150\n",
            "396/396 [==============================] - 0s 261us/sample - loss: 0.3958 - accuracy: 0.8333 - val_loss: 1.2662 - val_accuracy: 0.5146\n",
            "Epoch 100/150\n",
            "396/396 [==============================] - 0s 249us/sample - loss: 0.2915 - accuracy: 0.8712 - val_loss: 1.3036 - val_accuracy: 0.5439\n",
            "Epoch 101/150\n",
            "396/396 [==============================] - 0s 263us/sample - loss: 0.3708 - accuracy: 0.8308 - val_loss: 1.3411 - val_accuracy: 0.5497\n",
            "Epoch 102/150\n",
            "396/396 [==============================] - 0s 291us/sample - loss: 0.3815 - accuracy: 0.8359 - val_loss: 1.3448 - val_accuracy: 0.5497\n",
            "Epoch 103/150\n",
            "396/396 [==============================] - 0s 268us/sample - loss: 0.3301 - accuracy: 0.8434 - val_loss: 1.2884 - val_accuracy: 0.5263\n",
            "Epoch 104/150\n",
            "396/396 [==============================] - 0s 261us/sample - loss: 0.3814 - accuracy: 0.8510 - val_loss: 1.3200 - val_accuracy: 0.5146\n",
            "Epoch 105/150\n",
            "396/396 [==============================] - 0s 238us/sample - loss: 0.3752 - accuracy: 0.8308 - val_loss: 1.3292 - val_accuracy: 0.4912\n",
            "Epoch 106/150\n",
            "396/396 [==============================] - 0s 257us/sample - loss: 0.3829 - accuracy: 0.8359 - val_loss: 1.2998 - val_accuracy: 0.5380\n",
            "Epoch 107/150\n",
            "396/396 [==============================] - 0s 254us/sample - loss: 0.3513 - accuracy: 0.8460 - val_loss: 1.3067 - val_accuracy: 0.5380\n",
            "Epoch 108/150\n",
            "396/396 [==============================] - 0s 260us/sample - loss: 0.3401 - accuracy: 0.8384 - val_loss: 1.2816 - val_accuracy: 0.5322\n",
            "Epoch 109/150\n",
            "396/396 [==============================] - 0s 269us/sample - loss: 0.3675 - accuracy: 0.8157 - val_loss: 1.2683 - val_accuracy: 0.5322\n",
            "Epoch 110/150\n",
            "396/396 [==============================] - 0s 303us/sample - loss: 0.3752 - accuracy: 0.8207 - val_loss: 1.2660 - val_accuracy: 0.5146\n",
            "Epoch 111/150\n",
            "396/396 [==============================] - 0s 266us/sample - loss: 0.3654 - accuracy: 0.8409 - val_loss: 1.2362 - val_accuracy: 0.5322\n",
            "Epoch 112/150\n",
            "396/396 [==============================] - 0s 270us/sample - loss: 0.3576 - accuracy: 0.8359 - val_loss: 1.2314 - val_accuracy: 0.5263\n",
            "Epoch 113/150\n",
            "396/396 [==============================] - 0s 271us/sample - loss: 0.3257 - accuracy: 0.8434 - val_loss: 1.2617 - val_accuracy: 0.5556\n",
            "Epoch 114/150\n",
            "396/396 [==============================] - 0s 271us/sample - loss: 0.3525 - accuracy: 0.8460 - val_loss: 1.2686 - val_accuracy: 0.5497\n",
            "Epoch 115/150\n",
            "396/396 [==============================] - 0s 258us/sample - loss: 0.3078 - accuracy: 0.8586 - val_loss: 1.2491 - val_accuracy: 0.5263\n",
            "Epoch 116/150\n",
            "396/396 [==============================] - 0s 255us/sample - loss: 0.4283 - accuracy: 0.8056 - val_loss: 1.2412 - val_accuracy: 0.5146\n",
            "Epoch 117/150\n",
            "396/396 [==============================] - 0s 255us/sample - loss: 0.4194 - accuracy: 0.7980 - val_loss: 1.1940 - val_accuracy: 0.5322\n",
            "Epoch 118/150\n",
            "396/396 [==============================] - 0s 256us/sample - loss: 0.3664 - accuracy: 0.8359 - val_loss: 1.2202 - val_accuracy: 0.5146\n",
            "Epoch 119/150\n",
            "396/396 [==============================] - 0s 240us/sample - loss: 0.3933 - accuracy: 0.8333 - val_loss: 1.2319 - val_accuracy: 0.5263\n",
            "Epoch 120/150\n",
            "396/396 [==============================] - 0s 247us/sample - loss: 0.3839 - accuracy: 0.8308 - val_loss: 1.2788 - val_accuracy: 0.5146\n",
            "Epoch 121/150\n",
            "396/396 [==============================] - 0s 275us/sample - loss: 0.3693 - accuracy: 0.8434 - val_loss: 1.3355 - val_accuracy: 0.5380\n",
            "Epoch 122/150\n",
            "396/396 [==============================] - 0s 269us/sample - loss: 0.3753 - accuracy: 0.8308 - val_loss: 1.3185 - val_accuracy: 0.5029\n",
            "Epoch 123/150\n",
            "396/396 [==============================] - 0s 271us/sample - loss: 0.3272 - accuracy: 0.8434 - val_loss: 1.3472 - val_accuracy: 0.5322\n",
            "Epoch 124/150\n",
            "396/396 [==============================] - 0s 265us/sample - loss: 0.3821 - accuracy: 0.8510 - val_loss: 1.3430 - val_accuracy: 0.5146\n",
            "Epoch 125/150\n",
            "396/396 [==============================] - 0s 294us/sample - loss: 0.3887 - accuracy: 0.8409 - val_loss: 1.3644 - val_accuracy: 0.4795\n",
            "Epoch 126/150\n",
            "396/396 [==============================] - 0s 309us/sample - loss: 0.3769 - accuracy: 0.8409 - val_loss: 1.3484 - val_accuracy: 0.4912\n",
            "Epoch 127/150\n",
            "396/396 [==============================] - 0s 249us/sample - loss: 0.3545 - accuracy: 0.8384 - val_loss: 1.3293 - val_accuracy: 0.5146\n",
            "Epoch 128/150\n",
            "396/396 [==============================] - 0s 264us/sample - loss: 0.3056 - accuracy: 0.8611 - val_loss: 1.3939 - val_accuracy: 0.5029\n",
            "Epoch 129/150\n",
            "396/396 [==============================] - 0s 243us/sample - loss: 0.3219 - accuracy: 0.8561 - val_loss: 1.4352 - val_accuracy: 0.4971\n",
            "Epoch 130/150\n",
            "396/396 [==============================] - 0s 249us/sample - loss: 0.3762 - accuracy: 0.8333 - val_loss: 1.4353 - val_accuracy: 0.5146\n",
            "Epoch 131/150\n",
            "396/396 [==============================] - 0s 281us/sample - loss: 0.3799 - accuracy: 0.8283 - val_loss: 1.3776 - val_accuracy: 0.5205\n",
            "Epoch 132/150\n",
            "396/396 [==============================] - 0s 269us/sample - loss: 0.3760 - accuracy: 0.8434 - val_loss: 1.2340 - val_accuracy: 0.5439\n",
            "Epoch 133/150\n",
            "396/396 [==============================] - 0s 288us/sample - loss: 0.3994 - accuracy: 0.8182 - val_loss: 1.2112 - val_accuracy: 0.5205\n",
            "Epoch 134/150\n",
            "396/396 [==============================] - 0s 270us/sample - loss: 0.3501 - accuracy: 0.8384 - val_loss: 1.2280 - val_accuracy: 0.5146\n",
            "Epoch 135/150\n",
            "396/396 [==============================] - 0s 257us/sample - loss: 0.3744 - accuracy: 0.8460 - val_loss: 1.3120 - val_accuracy: 0.4912\n",
            "Epoch 136/150\n",
            "396/396 [==============================] - 0s 232us/sample - loss: 0.3437 - accuracy: 0.8485 - val_loss: 1.3417 - val_accuracy: 0.5146\n",
            "Epoch 137/150\n",
            "396/396 [==============================] - 0s 254us/sample - loss: 0.3334 - accuracy: 0.8510 - val_loss: 1.2978 - val_accuracy: 0.5263\n",
            "Epoch 138/150\n",
            "396/396 [==============================] - 0s 262us/sample - loss: 0.3787 - accuracy: 0.8359 - val_loss: 1.3463 - val_accuracy: 0.5439\n",
            "Epoch 139/150\n",
            "396/396 [==============================] - 0s 240us/sample - loss: 0.3390 - accuracy: 0.8510 - val_loss: 1.4575 - val_accuracy: 0.5263\n",
            "Epoch 140/150\n",
            "396/396 [==============================] - 0s 264us/sample - loss: 0.3370 - accuracy: 0.8561 - val_loss: 1.4719 - val_accuracy: 0.5088\n",
            "Epoch 141/150\n",
            "396/396 [==============================] - 0s 267us/sample - loss: 0.3683 - accuracy: 0.8333 - val_loss: 1.3778 - val_accuracy: 0.5263\n",
            "Epoch 142/150\n",
            "396/396 [==============================] - 0s 276us/sample - loss: 0.3404 - accuracy: 0.8485 - val_loss: 1.2662 - val_accuracy: 0.5088\n",
            "Epoch 143/150\n",
            "396/396 [==============================] - 0s 278us/sample - loss: 0.3523 - accuracy: 0.8460 - val_loss: 1.2794 - val_accuracy: 0.5088\n",
            "Epoch 144/150\n",
            "396/396 [==============================] - 0s 258us/sample - loss: 0.3512 - accuracy: 0.8434 - val_loss: 1.2973 - val_accuracy: 0.5439\n",
            "Epoch 145/150\n",
            "396/396 [==============================] - 0s 244us/sample - loss: 0.3567 - accuracy: 0.8333 - val_loss: 1.2652 - val_accuracy: 0.5556\n",
            "Epoch 146/150\n",
            "396/396 [==============================] - 0s 271us/sample - loss: 0.2754 - accuracy: 0.8712 - val_loss: 1.3121 - val_accuracy: 0.5088\n",
            "Epoch 147/150\n",
            "396/396 [==============================] - 0s 279us/sample - loss: 0.3245 - accuracy: 0.8460 - val_loss: 1.3795 - val_accuracy: 0.5029\n",
            "Epoch 148/150\n",
            "396/396 [==============================] - 0s 275us/sample - loss: 0.2929 - accuracy: 0.8788 - val_loss: 1.4581 - val_accuracy: 0.5322\n",
            "Epoch 149/150\n",
            "396/396 [==============================] - 0s 266us/sample - loss: 0.3112 - accuracy: 0.8586 - val_loss: 1.3871 - val_accuracy: 0.5380\n",
            "Epoch 150/150\n",
            "396/396 [==============================] - 0s 256us/sample - loss: 0.3395 - accuracy: 0.8485 - val_loss: 1.2791 - val_accuracy: 0.5088\n"
          ],
          "name": "stdout"
        }
      ]
    },
    {
      "cell_type": "markdown",
      "metadata": {
        "id": "D-N0rI3il0Q6",
        "colab_type": "text"
      },
      "source": [
        "## Plotting Accuracy and Loss\n",
        "Plotting Graphs:\n",
        " Train and Validation Accuracy vs Number of Epochs.\n",
        " Train and Validation Loss vs Number of Epochs."
      ]
    },
    {
      "cell_type": "code",
      "metadata": {
        "id": "J6yN-KRYhwzj",
        "colab_type": "code",
        "outputId": "77921149-5533-4d05-bf8c-0275e7ac5e97",
        "colab": {
          "base_uri": "https://localhost:8080/",
          "height": 607
        }
      },
      "source": [
        "#-----------------------------------------------------------\n",
        "# Retrieve a list of list results on training and test data\n",
        "# sets for each training epoch\n",
        "#-----------------------------------------------------------\n",
        "acc=history.history['accuracy']\n",
        "val_acc=history.history['val_accuracy']\n",
        "loss=history.history['loss']\n",
        "val_loss=history.history['val_loss']\n",
        "\n",
        "epochs=range(len(acc)) # Get number of epochs\n",
        "\n",
        "#------------------------------------------------\n",
        "# Plot training and validation accuracy per epoch\n",
        "#------------------------------------------------\n",
        "plt.plot(epochs, acc, 'r')\n",
        "plt.plot(epochs, val_acc, 'b')\n",
        "plt.title('Training and validation accuracy')\n",
        "plt.xlabel(\"Epochs\")\n",
        "plt.ylabel(\"Accuracy\")\n",
        "plt.legend([\"Accuracy\", \"Validation Accuracy\"])\n",
        "\n",
        "plt.figure()\n",
        "\n",
        "#------------------------------------------------\n",
        "# Plot training and validation loss per epoch\n",
        "#------------------------------------------------\n",
        "plt.plot(epochs, loss, 'r')\n",
        "plt.plot(epochs, val_loss, 'b')\n",
        "plt.title('Training and validation loss')\n",
        "plt.xlabel(\"Epochs\")\n",
        "plt.ylabel(\"Loss\")\n",
        "plt.legend([\"Loss\", \"Validation Loss\"])\n",
        "\n",
        "plt.figure()"
      ],
      "execution_count": 30,
      "outputs": [
        {
          "output_type": "execute_result",
          "data": {
            "text/plain": [
              "<Figure size 432x288 with 0 Axes>"
            ]
          },
          "metadata": {
            "tags": []
          },
          "execution_count": 30
        },
        {
          "output_type": "display_data",
          "data": {
            "image/png": "[encoded data removed]",
            "text/plain": [
              "<Figure size 432x288 with 1 Axes>"
            ]
          },
          "metadata": {
            "tags": []
          }
        },
        {
          "output_type": "display_data",
          "data": {
            "image/png": "[encoded data removed]",
            "text/plain": [
              "<Figure size 432x288 with 1 Axes>"
            ]
          },
          "metadata": {
            "tags": []
          }
        },
        {
          "output_type": "display_data",
          "data": {
            "text/plain": [
              "<Figure size 432x288 with 0 Axes>"
            ]
          },
          "metadata": {
            "tags": []
          }
        }
      ]
    },
    {
      "cell_type": "markdown",
      "metadata": {
        "id": "_mQ7V2ZfnGyE",
        "colab_type": "text"
      },
      "source": [
        "## Evaluating the Model\n",
        "Evaluating the trained model using the test set and displaying the output score and accuracy."
      ]
    },
    {
      "cell_type": "code",
      "metadata": {
        "id": "wOnq2T4NMQa3",
        "colab_type": "code",
        "outputId": "f998e634-6064-4328-d48a-f80aeb7fc3d6",
        "colab": {
          "base_uri": "https://localhost:8080/",
          "height": 68
        }
      },
      "source": [
        "score, acc = model.evaluate(X_test, Y_test,\n",
        "                            batch_size=64)\n",
        "print('Test score:', score)\n",
        "print('Test accuracy:', acc*100)"
      ],
      "execution_count": 52,
      "outputs": [
        {
          "output_type": "stream",
          "text": [
            "143/143 [==============================] - 0s 205us/sample - loss: 1.1061 - accuracy: 0.5944\n",
            "Test score: 1.106061034686082\n",
            "Test accuracy: 59.44055914878845\n"
          ],
          "name": "stdout"
        }
      ]
    },
    {
      "cell_type": "markdown",
      "metadata": {
        "id": "xden6Y_mnhQI",
        "colab_type": "text"
      },
      "source": [
        "## Testing the Model\n",
        "Testing for each emotion with arbitrary examples."
      ]
    },
    {
      "cell_type": "markdown",
      "metadata": {
        "id": "o031LJSLn601",
        "colab_type": "text"
      },
      "source": [
        "### Angry Sentence Testing"
      ]
    },
    {
      "cell_type": "code",
      "metadata": {
        "id": "Ggd17Ov9h9a1",
        "colab_type": "code",
        "colab": {}
      },
      "source": [
        "#Angry Test Sentence\n",
        "tot = []\n",
        "sen = \"मेरा दिमाग ख़राब मत कर और तुरंत रिचार्ज कर\"\n",
        "word_list=sen.split(' ')\n",
        "tplist = []\n",
        "cnt = 0\n",
        "for to in range(len(newtokens)):\n",
        "    if newtokens[to] in word_list:\n",
        "      onehot = [0]*(len(newtokens))\n",
        "      onehot[to] = 1\n",
        "      tplist.append(onehot)\n",
        "      cnt+=1\n",
        "while cnt<20:\n",
        "  onehot = [0]*(len(newtokens))\n",
        "  tplist.append(onehot)\n",
        "  cnt+=1\n",
        "#temp = np.array(tplist)\n",
        "#print(temp.shape)\n",
        "tot.append(tplist)"
      ],
      "execution_count": 0,
      "outputs": []
    },
    {
      "cell_type": "code",
      "metadata": {
        "id": "KORXZJU0k-GC",
        "colab_type": "code",
        "outputId": "e195d2c4-cfc1-4140-a554-ebc11bd5077c",
        "colab": {
          "base_uri": "https://localhost:8080/",
          "height": 34
        }
      },
      "source": [
        "test= tf.convert_to_tensor(tot)\n",
        "print(test.shape)"
      ],
      "execution_count": 33,
      "outputs": [
        {
          "output_type": "stream",
          "text": [
            "(1, 20, 1464)\n"
          ],
          "name": "stdout"
        }
      ]
    },
    {
      "cell_type": "code",
      "metadata": {
        "id": "ajYgpeSflQEQ",
        "colab_type": "code",
        "colab": {}
      },
      "source": [
        "pred = model.predict(test)"
      ],
      "execution_count": 0,
      "outputs": []
    },
    {
      "cell_type": "code",
      "metadata": {
        "id": "zfOQqnZImZm2",
        "colab_type": "code",
        "outputId": "0376a139-5bf1-4b7d-aa94-dc9c0b975c45",
        "colab": {
          "base_uri": "https://localhost:8080/",
          "height": 34
        }
      },
      "source": [
        "print(pred)"
      ],
      "execution_count": 35,
      "outputs": [
        {
          "output_type": "stream",
          "text": [
            "[[9.9959368e-01 2.6466357e-04 4.8579177e-06 1.3685488e-04]]\n"
          ],
          "name": "stdout"
        }
      ]
    },
    {
      "cell_type": "code",
      "metadata": {
        "id": "K3byDEdgPP9n",
        "colab_type": "code",
        "outputId": "79183326-43e4-4b10-e553-7c34c2644706",
        "colab": {
          "base_uri": "https://localhost:8080/",
          "height": 34
        }
      },
      "source": [
        "if np.argmax(pred, axis=1)==[0] :\n",
        "  print(sen, \"angry sentence\")\n",
        "elif np.argmax(pred, axis=1)==[1] :\n",
        "  print(sen, \"sad sentence\")\n",
        "elif np.argmax(pred, axis=1)==[2] :\n",
        "  print(sen, \"happy sentence\")\n",
        "else:\n",
        "  print(sen, \"neutral sentence\")"
      ],
      "execution_count": 36,
      "outputs": [
        {
          "output_type": "stream",
          "text": [
            "मेरा दिमाग ख़राब मत कर और तुरंत रिचार्ज कर angry sentence\n"
          ],
          "name": "stdout"
        }
      ]
    },
    {
      "cell_type": "markdown",
      "metadata": {
        "colab_type": "text",
        "id": "mEsdaHcAoGJO"
      },
      "source": [
        "### Sad Sentence Testing"
      ]
    },
    {
      "cell_type": "code",
      "metadata": {
        "colab_type": "code",
        "id": "ZjyhEkGaoGJS",
        "colab": {}
      },
      "source": [
        "#Sad Test Sentence\n",
        "tot = []\n",
        "sen = \"मेरे मार्क्स बहुत खराब हैं इसलिए मैं दुखी हूं\"\n",
        "word_list=sen.split(' ')\n",
        "tplist = []\n",
        "cnt = 0\n",
        "for to in range(len(newtokens)):\n",
        "    if newtokens[to] in word_list:\n",
        "      onehot = [0]*(len(newtokens))\n",
        "      onehot[to] = 1\n",
        "      tplist.append(onehot)\n",
        "      cnt+=1\n",
        "while cnt<20:\n",
        "  onehot = [0]*(len(newtokens))\n",
        "  tplist.append(onehot)\n",
        "  cnt+=1\n",
        "#temp = np.array(tplist)\n",
        "#print(temp.shape)\n",
        "tot.append(tplist)"
      ],
      "execution_count": 0,
      "outputs": []
    },
    {
      "cell_type": "code",
      "metadata": {
        "colab_type": "code",
        "id": "BLH4Vrq1oGJa",
        "outputId": "8f01de64-23a8-477a-aa1d-44d5bb4233b7",
        "colab": {
          "base_uri": "https://localhost:8080/",
          "height": 34
        }
      },
      "source": [
        "test= tf.convert_to_tensor(tot)\n",
        "print(test.shape)"
      ],
      "execution_count": 38,
      "outputs": [
        {
          "output_type": "stream",
          "text": [
            "(1, 20, 1464)\n"
          ],
          "name": "stdout"
        }
      ]
    },
    {
      "cell_type": "code",
      "metadata": {
        "colab_type": "code",
        "id": "YN5b3RSvoGJc",
        "colab": {}
      },
      "source": [
        "pred = model.predict(test)"
      ],
      "execution_count": 0,
      "outputs": []
    },
    {
      "cell_type": "code",
      "metadata": {
        "colab_type": "code",
        "id": "o-FOHc7woGJf",
        "outputId": "5dd9b6dc-b310-4500-a4a3-72a6deb491da",
        "colab": {
          "base_uri": "https://localhost:8080/",
          "height": 34
        }
      },
      "source": [
        "print(pred)"
      ],
      "execution_count": 40,
      "outputs": [
        {
          "output_type": "stream",
          "text": [
            "[[6.9385744e-04 9.9905711e-01 2.2910335e-04 1.9920291e-05]]\n"
          ],
          "name": "stdout"
        }
      ]
    },
    {
      "cell_type": "code",
      "metadata": {
        "colab_type": "code",
        "id": "0YBMw2KmoGJi",
        "outputId": "798affde-fd86-440c-b7fa-c642f6802434",
        "colab": {
          "base_uri": "https://localhost:8080/",
          "height": 34
        }
      },
      "source": [
        "if np.argmax(pred, axis=1)==[0] :\n",
        "  print(sen, \"angry sentence\")\n",
        "elif np.argmax(pred, axis=1)==[1] :\n",
        "  print(sen, \"sad sentence\")\n",
        "elif np.argmax(pred, axis=1)==[2] :\n",
        "  print(sen, \"happy sentence\")\n",
        "else:\n",
        "  print(sen, \"neutral sentence\")"
      ],
      "execution_count": 41,
      "outputs": [
        {
          "output_type": "stream",
          "text": [
            "मेरे मार्क्स बहुत खराब हैं इसलिए मैं दुखी हूं sad sentence\n"
          ],
          "name": "stdout"
        }
      ]
    },
    {
      "cell_type": "markdown",
      "metadata": {
        "colab_type": "text",
        "id": "MiPdPeEyoKEg"
      },
      "source": [
        "### Happy Sentence Testing"
      ]
    },
    {
      "cell_type": "code",
      "metadata": {
        "colab_type": "code",
        "id": "j3hH80RXoKEj",
        "colab": {}
      },
      "source": [
        "#Happy Test Sentence\n",
        "tot = []\n",
        "sen = \"धन के लिए धन्यवाद भाई\"\n",
        "word_list=sen.split(' ')\n",
        "tplist = []\n",
        "cnt = 0\n",
        "for to in range(len(newtokens)):\n",
        "    if newtokens[to] in word_list:\n",
        "      onehot = [0]*(len(newtokens))\n",
        "      onehot[to] = 1\n",
        "      tplist.append(onehot)\n",
        "      cnt+=1\n",
        "while cnt<20:\n",
        "  onehot = [0]*(len(newtokens))\n",
        "  tplist.append(onehot)\n",
        "  cnt+=1\n",
        "#temp = np.array(tplist)\n",
        "#print(temp.shape)\n",
        "tot.append(tplist)"
      ],
      "execution_count": 0,
      "outputs": []
    },
    {
      "cell_type": "code",
      "metadata": {
        "colab_type": "code",
        "id": "bS245pQvoKEo",
        "colab": {
          "base_uri": "https://localhost:8080/",
          "height": 34
        },
        "outputId": "0ab263c2-eef9-46fa-9906-81f9d641effd"
      },
      "source": [
        "test= tf.convert_to_tensor(tot)\n",
        "print(test.shape)"
      ],
      "execution_count": 43,
      "outputs": [
        {
          "output_type": "stream",
          "text": [
            "(1, 20, 1464)\n"
          ],
          "name": "stdout"
        }
      ]
    },
    {
      "cell_type": "code",
      "metadata": {
        "colab_type": "code",
        "id": "GaZccwWvoKEr",
        "colab": {}
      },
      "source": [
        "pred = model.predict(test)"
      ],
      "execution_count": 0,
      "outputs": []
    },
    {
      "cell_type": "code",
      "metadata": {
        "colab_type": "code",
        "id": "zeLvADeboKEt",
        "colab": {
          "base_uri": "https://localhost:8080/",
          "height": 34
        },
        "outputId": "b65030b1-d84a-40e5-96a0-474f35bb50fc"
      },
      "source": [
        "print(pred)"
      ],
      "execution_count": 45,
      "outputs": [
        {
          "output_type": "stream",
          "text": [
            "[[0.02085463 0.02558292 0.93076223 0.02280023]]\n"
          ],
          "name": "stdout"
        }
      ]
    },
    {
      "cell_type": "code",
      "metadata": {
        "colab_type": "code",
        "id": "of_HFT9PoKEv",
        "colab": {
          "base_uri": "https://localhost:8080/",
          "height": 34
        },
        "outputId": "17022d79-13c9-4185-f692-f117775345d0"
      },
      "source": [
        "if np.argmax(pred, axis=1)==[0] :\n",
        "  print(sen, \"angry sentence\")\n",
        "elif np.argmax(pred, axis=1)==[1] :\n",
        "  print(sen, \"sad sentence\")\n",
        "elif np.argmax(pred, axis=1)==[2] :\n",
        "  print(sen, \"happy sentence\")\n",
        "else:\n",
        "  print(sen, \"neutral sentence\")"
      ],
      "execution_count": 46,
      "outputs": [
        {
          "output_type": "stream",
          "text": [
            "धन के लिए धन्यवाद भाई happy sentence\n"
          ],
          "name": "stdout"
        }
      ]
    },
    {
      "cell_type": "markdown",
      "metadata": {
        "colab_type": "text",
        "id": "5R-AAZZCoQKi"
      },
      "source": [
        "### Neutral Sentence Testing"
      ]
    },
    {
      "cell_type": "code",
      "metadata": {
        "colab_type": "code",
        "id": "-qpoqBczoQKm",
        "colab": {}
      },
      "source": [
        "#Neutral Test Sentence\n",
        "tot = []\n",
        "sen = \"आज का समय क्या है \"\n",
        "word_list=sen.split(' ')\n",
        "tplist = []\n",
        "cnt = 0\n",
        "for to in range(len(newtokens)):\n",
        "    if newtokens[to] in word_list:\n",
        "      onehot = [0]*(len(newtokens))\n",
        "      onehot[to] = 1\n",
        "      tplist.append(onehot)\n",
        "      cnt+=1\n",
        "while cnt<20:\n",
        "  onehot = [0]*(len(newtokens))\n",
        "  tplist.append(onehot)\n",
        "  cnt+=1\n",
        "#temp = np.array(tplist)\n",
        "#print(temp.shape)\n",
        "tot.append(tplist)"
      ],
      "execution_count": 0,
      "outputs": []
    },
    {
      "cell_type": "code",
      "metadata": {
        "colab_type": "code",
        "id": "aVEfi2QgoQKo",
        "colab": {
          "base_uri": "https://localhost:8080/",
          "height": 34
        },
        "outputId": "98b92556-05f3-4812-fcbf-8f5d87331a5f"
      },
      "source": [
        "test= tf.convert_to_tensor(tot)\n",
        "print(test.shape)"
      ],
      "execution_count": 48,
      "outputs": [
        {
          "output_type": "stream",
          "text": [
            "(1, 20, 1464)\n"
          ],
          "name": "stdout"
        }
      ]
    },
    {
      "cell_type": "code",
      "metadata": {
        "colab_type": "code",
        "id": "lgdGLwO9oQKq",
        "colab": {}
      },
      "source": [
        "pred = model.predict(test)"
      ],
      "execution_count": 0,
      "outputs": []
    },
    {
      "cell_type": "code",
      "metadata": {
        "colab_type": "code",
        "id": "PKQ2BxdmoQKv",
        "colab": {
          "base_uri": "https://localhost:8080/",
          "height": 34
        },
        "outputId": "73b04790-6340-464c-a8af-901a3b1f6025"
      },
      "source": [
        "print(pred)"
      ],
      "execution_count": 50,
      "outputs": [
        {
          "output_type": "stream",
          "text": [
            "[[0.05523797 0.08085631 0.07767874 0.786227  ]]\n"
          ],
          "name": "stdout"
        }
      ]
    },
    {
      "cell_type": "code",
      "metadata": {
        "colab_type": "code",
        "id": "clzWgB_OoQKy",
        "colab": {
          "base_uri": "https://localhost:8080/",
          "height": 34
        },
        "outputId": "7b06ffbe-e474-4570-bb50-5af152acd85b"
      },
      "source": [
        "if np.argmax(pred, axis=1)==[0] :\n",
        "  print(sen, \"angry sentence\")\n",
        "elif np.argmax(pred, axis=1)==[1] :\n",
        "  print(sen, \"sad sentence\")\n",
        "elif np.argmax(pred, axis=1)==[2] :\n",
        "  print(sen, \"happy sentence\")\n",
        "else:\n",
        "  print(sen, \"neutral sentence\")"
      ],
      "execution_count": 51,
      "outputs": [
        {
          "output_type": "stream",
          "text": [
            "आज का समय क्या है  neutral sentence\n"
          ],
          "name": "stdout"
        }
      ]
    }
  ]
}